{
 "cells": [
  {
   "cell_type": "markdown",
   "metadata": {},
   "source": [
    "## Import pacakage"
   ]
  },
  {
   "cell_type": "code",
   "execution_count": 1,
   "metadata": {},
   "outputs": [],
   "source": [
    "import numpy as np\n",
    "import pandas as pd\n",
    "import seaborn as sns\n",
    "from matplotlib import pyplot as plt\n",
    "from sklearn.metrics import auc, roc_curve, classification_report\n",
    "\n",
    "import h2o\n",
    "from h2o.frame import H2OFrame\n",
    "from h2o.estimators.random_forest import H2ORandomForestEstimator\n",
    "\n",
    "%matplotlib inline"
   ]
  },
  {
   "cell_type": "code",
   "execution_count": 2,
   "metadata": {},
   "outputs": [
    {
     "name": "stdout",
     "output_type": "stream",
     "text": [
      "3.6.10\n"
     ]
    }
   ],
   "source": [
    "from platform import python_version\n",
    "print(python_version())"
   ]
  },
  {
   "cell_type": "markdown",
   "metadata": {},
   "source": [
    "## Load Dataset"
   ]
  },
  {
   "cell_type": "code",
   "execution_count": 2,
   "metadata": {},
   "outputs": [
    {
     "data": {
      "text/html": [
       "<div>\n",
       "<style scoped>\n",
       "    .dataframe tbody tr th:only-of-type {\n",
       "        vertical-align: middle;\n",
       "    }\n",
       "\n",
       "    .dataframe tbody tr th {\n",
       "        vertical-align: top;\n",
       "    }\n",
       "\n",
       "    .dataframe thead th {\n",
       "        text-align: right;\n",
       "    }\n",
       "</style>\n",
       "<table border=\"1\" class=\"dataframe\">\n",
       "  <thead>\n",
       "    <tr style=\"text-align: right;\">\n",
       "      <th></th>\n",
       "      <th>user_id</th>\n",
       "      <th>signup_time</th>\n",
       "      <th>purchase_time</th>\n",
       "      <th>purchase_value</th>\n",
       "      <th>device_id</th>\n",
       "      <th>source</th>\n",
       "      <th>browser</th>\n",
       "      <th>sex</th>\n",
       "      <th>age</th>\n",
       "      <th>ip_address</th>\n",
       "      <th>class</th>\n",
       "    </tr>\n",
       "  </thead>\n",
       "  <tbody>\n",
       "    <tr>\n",
       "      <th>0</th>\n",
       "      <td>22058</td>\n",
       "      <td>2015-02-24 22:55:49</td>\n",
       "      <td>2015-04-18 02:47:11</td>\n",
       "      <td>34</td>\n",
       "      <td>QVPSPJUOCKZAR</td>\n",
       "      <td>SEO</td>\n",
       "      <td>Chrome</td>\n",
       "      <td>M</td>\n",
       "      <td>39</td>\n",
       "      <td>7.327584e+08</td>\n",
       "      <td>0</td>\n",
       "    </tr>\n",
       "    <tr>\n",
       "      <th>1</th>\n",
       "      <td>333320</td>\n",
       "      <td>2015-06-07 20:39:50</td>\n",
       "      <td>2015-06-08 01:38:54</td>\n",
       "      <td>16</td>\n",
       "      <td>EOGFQPIZPYXFZ</td>\n",
       "      <td>Ads</td>\n",
       "      <td>Chrome</td>\n",
       "      <td>F</td>\n",
       "      <td>53</td>\n",
       "      <td>3.503114e+08</td>\n",
       "      <td>0</td>\n",
       "    </tr>\n",
       "    <tr>\n",
       "      <th>2</th>\n",
       "      <td>1359</td>\n",
       "      <td>2015-01-01 18:52:44</td>\n",
       "      <td>2015-01-01 18:52:45</td>\n",
       "      <td>15</td>\n",
       "      <td>YSSKYOSJHPPLJ</td>\n",
       "      <td>SEO</td>\n",
       "      <td>Opera</td>\n",
       "      <td>M</td>\n",
       "      <td>53</td>\n",
       "      <td>2.621474e+09</td>\n",
       "      <td>1</td>\n",
       "    </tr>\n",
       "    <tr>\n",
       "      <th>3</th>\n",
       "      <td>150084</td>\n",
       "      <td>2015-04-28 21:13:25</td>\n",
       "      <td>2015-05-04 13:54:50</td>\n",
       "      <td>44</td>\n",
       "      <td>ATGTXKYKUDUQN</td>\n",
       "      <td>SEO</td>\n",
       "      <td>Safari</td>\n",
       "      <td>M</td>\n",
       "      <td>41</td>\n",
       "      <td>3.840542e+09</td>\n",
       "      <td>0</td>\n",
       "    </tr>\n",
       "    <tr>\n",
       "      <th>4</th>\n",
       "      <td>221365</td>\n",
       "      <td>2015-07-21 07:09:52</td>\n",
       "      <td>2015-09-09 18:40:53</td>\n",
       "      <td>39</td>\n",
       "      <td>NAUITBZFJKHWW</td>\n",
       "      <td>Ads</td>\n",
       "      <td>Safari</td>\n",
       "      <td>M</td>\n",
       "      <td>45</td>\n",
       "      <td>4.155831e+08</td>\n",
       "      <td>0</td>\n",
       "    </tr>\n",
       "  </tbody>\n",
       "</table>\n",
       "</div>"
      ],
      "text/plain": [
       "   user_id          signup_time        purchase_time  purchase_value  \\\n",
       "0    22058  2015-02-24 22:55:49  2015-04-18 02:47:11              34   \n",
       "1   333320  2015-06-07 20:39:50  2015-06-08 01:38:54              16   \n",
       "2     1359  2015-01-01 18:52:44  2015-01-01 18:52:45              15   \n",
       "3   150084  2015-04-28 21:13:25  2015-05-04 13:54:50              44   \n",
       "4   221365  2015-07-21 07:09:52  2015-09-09 18:40:53              39   \n",
       "\n",
       "       device_id source browser sex  age    ip_address  class  \n",
       "0  QVPSPJUOCKZAR    SEO  Chrome   M   39  7.327584e+08      0  \n",
       "1  EOGFQPIZPYXFZ    Ads  Chrome   F   53  3.503114e+08      0  \n",
       "2  YSSKYOSJHPPLJ    SEO   Opera   M   53  2.621474e+09      1  \n",
       "3  ATGTXKYKUDUQN    SEO  Safari   M   41  3.840542e+09      0  \n",
       "4  NAUITBZFJKHWW    Ads  Safari   M   45  4.155831e+08      0  "
      ]
     },
     "execution_count": 2,
     "metadata": {},
     "output_type": "execute_result"
    }
   ],
   "source": [
    "data = pd.read_csv('E:/Collection_DS_takehome_challenges/Data/Fraud_Data.csv')\n",
    "data.head()"
   ]
  },
  {
   "cell_type": "code",
   "execution_count": 3,
   "metadata": {},
   "outputs": [
    {
     "name": "stdout",
     "output_type": "stream",
     "text": [
      "<class 'pandas.core.frame.DataFrame'>\n",
      "RangeIndex: 151112 entries, 0 to 151111\n",
      "Data columns (total 11 columns):\n",
      " #   Column          Non-Null Count   Dtype  \n",
      "---  ------          --------------   -----  \n",
      " 0   user_id         151112 non-null  int64  \n",
      " 1   signup_time     151112 non-null  object \n",
      " 2   purchase_time   151112 non-null  object \n",
      " 3   purchase_value  151112 non-null  int64  \n",
      " 4   device_id       151112 non-null  object \n",
      " 5   source          151112 non-null  object \n",
      " 6   browser         151112 non-null  object \n",
      " 7   sex             151112 non-null  object \n",
      " 8   age             151112 non-null  int64  \n",
      " 9   ip_address      151112 non-null  float64\n",
      " 10  class           151112 non-null  int64  \n",
      "dtypes: float64(1), int64(4), object(6)\n",
      "memory usage: 12.7+ MB\n"
     ]
    }
   ],
   "source": [
    "data.info()"
   ]
  },
  {
   "cell_type": "code",
   "execution_count": 4,
   "metadata": {},
   "outputs": [
    {
     "data": {
      "text/html": [
       "<div>\n",
       "<style scoped>\n",
       "    .dataframe tbody tr th:only-of-type {\n",
       "        vertical-align: middle;\n",
       "    }\n",
       "\n",
       "    .dataframe tbody tr th {\n",
       "        vertical-align: top;\n",
       "    }\n",
       "\n",
       "    .dataframe thead th {\n",
       "        text-align: right;\n",
       "    }\n",
       "</style>\n",
       "<table border=\"1\" class=\"dataframe\">\n",
       "  <thead>\n",
       "    <tr style=\"text-align: right;\">\n",
       "      <th></th>\n",
       "      <th>user_id</th>\n",
       "      <th>purchase_value</th>\n",
       "      <th>age</th>\n",
       "      <th>ip_address</th>\n",
       "      <th>class</th>\n",
       "    </tr>\n",
       "  </thead>\n",
       "  <tbody>\n",
       "    <tr>\n",
       "      <th>count</th>\n",
       "      <td>151112.000000</td>\n",
       "      <td>151112.000000</td>\n",
       "      <td>151112.000000</td>\n",
       "      <td>1.511120e+05</td>\n",
       "      <td>151112.000000</td>\n",
       "    </tr>\n",
       "    <tr>\n",
       "      <th>mean</th>\n",
       "      <td>200171.040970</td>\n",
       "      <td>36.935372</td>\n",
       "      <td>33.140704</td>\n",
       "      <td>2.152145e+09</td>\n",
       "      <td>0.093646</td>\n",
       "    </tr>\n",
       "    <tr>\n",
       "      <th>std</th>\n",
       "      <td>115369.285024</td>\n",
       "      <td>18.322762</td>\n",
       "      <td>8.617733</td>\n",
       "      <td>1.248497e+09</td>\n",
       "      <td>0.291336</td>\n",
       "    </tr>\n",
       "    <tr>\n",
       "      <th>min</th>\n",
       "      <td>2.000000</td>\n",
       "      <td>9.000000</td>\n",
       "      <td>18.000000</td>\n",
       "      <td>5.209350e+04</td>\n",
       "      <td>0.000000</td>\n",
       "    </tr>\n",
       "    <tr>\n",
       "      <th>25%</th>\n",
       "      <td>100642.500000</td>\n",
       "      <td>22.000000</td>\n",
       "      <td>27.000000</td>\n",
       "      <td>1.085934e+09</td>\n",
       "      <td>0.000000</td>\n",
       "    </tr>\n",
       "    <tr>\n",
       "      <th>50%</th>\n",
       "      <td>199958.000000</td>\n",
       "      <td>35.000000</td>\n",
       "      <td>33.000000</td>\n",
       "      <td>2.154770e+09</td>\n",
       "      <td>0.000000</td>\n",
       "    </tr>\n",
       "    <tr>\n",
       "      <th>75%</th>\n",
       "      <td>300054.000000</td>\n",
       "      <td>49.000000</td>\n",
       "      <td>39.000000</td>\n",
       "      <td>3.243258e+09</td>\n",
       "      <td>0.000000</td>\n",
       "    </tr>\n",
       "    <tr>\n",
       "      <th>max</th>\n",
       "      <td>400000.000000</td>\n",
       "      <td>154.000000</td>\n",
       "      <td>76.000000</td>\n",
       "      <td>4.294850e+09</td>\n",
       "      <td>1.000000</td>\n",
       "    </tr>\n",
       "  </tbody>\n",
       "</table>\n",
       "</div>"
      ],
      "text/plain": [
       "             user_id  purchase_value            age    ip_address  \\\n",
       "count  151112.000000   151112.000000  151112.000000  1.511120e+05   \n",
       "mean   200171.040970       36.935372      33.140704  2.152145e+09   \n",
       "std    115369.285024       18.322762       8.617733  1.248497e+09   \n",
       "min         2.000000        9.000000      18.000000  5.209350e+04   \n",
       "25%    100642.500000       22.000000      27.000000  1.085934e+09   \n",
       "50%    199958.000000       35.000000      33.000000  2.154770e+09   \n",
       "75%    300054.000000       49.000000      39.000000  3.243258e+09   \n",
       "max    400000.000000      154.000000      76.000000  4.294850e+09   \n",
       "\n",
       "               class  \n",
       "count  151112.000000  \n",
       "mean        0.093646  \n",
       "std         0.291336  \n",
       "min         0.000000  \n",
       "25%         0.000000  \n",
       "50%         0.000000  \n",
       "75%         0.000000  \n",
       "max         1.000000  "
      ]
     },
     "execution_count": 4,
     "metadata": {},
     "output_type": "execute_result"
    }
   ],
   "source": [
    "data.describe()"
   ]
  },
  {
   "cell_type": "code",
   "execution_count": 9,
   "metadata": {},
   "outputs": [
    {
     "data": {
      "text/html": [
       "<div>\n",
       "<style scoped>\n",
       "    .dataframe tbody tr th:only-of-type {\n",
       "        vertical-align: middle;\n",
       "    }\n",
       "\n",
       "    .dataframe tbody tr th {\n",
       "        vertical-align: top;\n",
       "    }\n",
       "\n",
       "    .dataframe thead th {\n",
       "        text-align: right;\n",
       "    }\n",
       "</style>\n",
       "<table border=\"1\" class=\"dataframe\">\n",
       "  <thead>\n",
       "    <tr style=\"text-align: right;\">\n",
       "      <th></th>\n",
       "      <th>lower_bound_ip_address</th>\n",
       "      <th>upper_bound_ip_address</th>\n",
       "      <th>country</th>\n",
       "    </tr>\n",
       "  </thead>\n",
       "  <tbody>\n",
       "    <tr>\n",
       "      <th>0</th>\n",
       "      <td>16777216.0</td>\n",
       "      <td>16777471</td>\n",
       "      <td>Australia</td>\n",
       "    </tr>\n",
       "    <tr>\n",
       "      <th>1</th>\n",
       "      <td>16777472.0</td>\n",
       "      <td>16777727</td>\n",
       "      <td>China</td>\n",
       "    </tr>\n",
       "    <tr>\n",
       "      <th>2</th>\n",
       "      <td>16777728.0</td>\n",
       "      <td>16778239</td>\n",
       "      <td>China</td>\n",
       "    </tr>\n",
       "    <tr>\n",
       "      <th>3</th>\n",
       "      <td>16778240.0</td>\n",
       "      <td>16779263</td>\n",
       "      <td>Australia</td>\n",
       "    </tr>\n",
       "    <tr>\n",
       "      <th>4</th>\n",
       "      <td>16779264.0</td>\n",
       "      <td>16781311</td>\n",
       "      <td>China</td>\n",
       "    </tr>\n",
       "  </tbody>\n",
       "</table>\n",
       "</div>"
      ],
      "text/plain": [
       "   lower_bound_ip_address  upper_bound_ip_address    country\n",
       "0              16777216.0                16777471  Australia\n",
       "1              16777472.0                16777727      China\n",
       "2              16777728.0                16778239      China\n",
       "3              16778240.0                16779263  Australia\n",
       "4              16779264.0                16781311      China"
      ]
     },
     "execution_count": 9,
     "metadata": {},
     "output_type": "execute_result"
    }
   ],
   "source": [
    "ipaddress = pd.read_csv('E:/Collection_DS_takehome_challenges/Data/IpAddress_to_Country.csv')\n",
    "ipaddress.head()"
   ]
  },
  {
   "cell_type": "code",
   "execution_count": 10,
   "metadata": {},
   "outputs": [
    {
     "name": "stdout",
     "output_type": "stream",
     "text": [
      "<class 'pandas.core.frame.DataFrame'>\n",
      "RangeIndex: 138846 entries, 0 to 138845\n",
      "Data columns (total 3 columns):\n",
      " #   Column                  Non-Null Count   Dtype  \n",
      "---  ------                  --------------   -----  \n",
      " 0   lower_bound_ip_address  138846 non-null  float64\n",
      " 1   upper_bound_ip_address  138846 non-null  int64  \n",
      " 2   country                 138846 non-null  object \n",
      "dtypes: float64(1), int64(1), object(1)\n",
      "memory usage: 3.2+ MB\n"
     ]
    }
   ],
   "source": [
    "ipaddress.info()"
   ]
  },
  {
   "cell_type": "code",
   "execution_count": 11,
   "metadata": {},
   "outputs": [],
   "source": [
    "ipaddress['upper_bound_ip_address']=ipaddress['upper_bound_ip_address'].astype(np.float64)"
   ]
  },
  {
   "cell_type": "code",
   "execution_count": 12,
   "metadata": {},
   "outputs": [
    {
     "name": "stdout",
     "output_type": "stream",
     "text": [
      "<class 'pandas.core.frame.DataFrame'>\n",
      "RangeIndex: 138846 entries, 0 to 138845\n",
      "Data columns (total 3 columns):\n",
      " #   Column                  Non-Null Count   Dtype  \n",
      "---  ------                  --------------   -----  \n",
      " 0   lower_bound_ip_address  138846 non-null  float64\n",
      " 1   upper_bound_ip_address  138846 non-null  float64\n",
      " 2   country                 138846 non-null  object \n",
      "dtypes: float64(2), object(1)\n",
      "memory usage: 3.2+ MB\n"
     ]
    }
   ],
   "source": [
    "ipaddress.info()"
   ]
  },
  {
   "cell_type": "code",
   "execution_count": 57,
   "metadata": {},
   "outputs": [
    {
     "name": "stdout",
     "output_type": "stream",
     "text": [
      "user_table:\t 151112\n",
      "ipaddress:\t 138846\n"
     ]
    }
   ],
   "source": [
    "# check uniquess of tables\n",
    "print('user_table:\\t', len(data['user_id'].unique()))\n",
    "print('ipaddress:\\t', len(ipaddress))"
   ]
  },
  {
   "cell_type": "markdown",
   "metadata": {},
   "source": [
    "## Merge Country to Fraud Data"
   ]
  },
  {
   "cell_type": "code",
   "execution_count": 13,
   "metadata": {},
   "outputs": [],
   "source": [
    "countries = []\n",
    "for i in range(len(data)):\n",
    "    ip_address = data.loc[i, 'ip_address']\n",
    "    tmp = ipaddress[(ipaddress['lower_bound_ip_address'] <= ip_address) &\n",
    "                    (ipaddress['upper_bound_ip_address'] >= ip_address)]\n",
    "    if len(tmp) == 1:\n",
    "        countries.append(tmp['country'].values[0])\n",
    "    else:\n",
    "        countries.append('NA')\n",
    "        \n",
    "data['country'] = countries"
   ]
  },
  {
   "cell_type": "code",
   "execution_count": 14,
   "metadata": {},
   "outputs": [
    {
     "data": {
      "text/html": [
       "<div>\n",
       "<style scoped>\n",
       "    .dataframe tbody tr th:only-of-type {\n",
       "        vertical-align: middle;\n",
       "    }\n",
       "\n",
       "    .dataframe tbody tr th {\n",
       "        vertical-align: top;\n",
       "    }\n",
       "\n",
       "    .dataframe thead th {\n",
       "        text-align: right;\n",
       "    }\n",
       "</style>\n",
       "<table border=\"1\" class=\"dataframe\">\n",
       "  <thead>\n",
       "    <tr style=\"text-align: right;\">\n",
       "      <th></th>\n",
       "      <th>user_id</th>\n",
       "      <th>signup_time</th>\n",
       "      <th>purchase_time</th>\n",
       "      <th>purchase_value</th>\n",
       "      <th>device_id</th>\n",
       "      <th>source</th>\n",
       "      <th>browser</th>\n",
       "      <th>sex</th>\n",
       "      <th>age</th>\n",
       "      <th>ip_address</th>\n",
       "      <th>class</th>\n",
       "      <th>country</th>\n",
       "    </tr>\n",
       "  </thead>\n",
       "  <tbody>\n",
       "    <tr>\n",
       "      <th>0</th>\n",
       "      <td>22058</td>\n",
       "      <td>2015-02-24 22:55:49</td>\n",
       "      <td>2015-04-18 02:47:11</td>\n",
       "      <td>34</td>\n",
       "      <td>QVPSPJUOCKZAR</td>\n",
       "      <td>SEO</td>\n",
       "      <td>Chrome</td>\n",
       "      <td>M</td>\n",
       "      <td>39</td>\n",
       "      <td>7.327584e+08</td>\n",
       "      <td>0</td>\n",
       "      <td>Japan</td>\n",
       "    </tr>\n",
       "    <tr>\n",
       "      <th>1</th>\n",
       "      <td>333320</td>\n",
       "      <td>2015-06-07 20:39:50</td>\n",
       "      <td>2015-06-08 01:38:54</td>\n",
       "      <td>16</td>\n",
       "      <td>EOGFQPIZPYXFZ</td>\n",
       "      <td>Ads</td>\n",
       "      <td>Chrome</td>\n",
       "      <td>F</td>\n",
       "      <td>53</td>\n",
       "      <td>3.503114e+08</td>\n",
       "      <td>0</td>\n",
       "      <td>United States</td>\n",
       "    </tr>\n",
       "    <tr>\n",
       "      <th>2</th>\n",
       "      <td>1359</td>\n",
       "      <td>2015-01-01 18:52:44</td>\n",
       "      <td>2015-01-01 18:52:45</td>\n",
       "      <td>15</td>\n",
       "      <td>YSSKYOSJHPPLJ</td>\n",
       "      <td>SEO</td>\n",
       "      <td>Opera</td>\n",
       "      <td>M</td>\n",
       "      <td>53</td>\n",
       "      <td>2.621474e+09</td>\n",
       "      <td>1</td>\n",
       "      <td>United States</td>\n",
       "    </tr>\n",
       "    <tr>\n",
       "      <th>3</th>\n",
       "      <td>150084</td>\n",
       "      <td>2015-04-28 21:13:25</td>\n",
       "      <td>2015-05-04 13:54:50</td>\n",
       "      <td>44</td>\n",
       "      <td>ATGTXKYKUDUQN</td>\n",
       "      <td>SEO</td>\n",
       "      <td>Safari</td>\n",
       "      <td>M</td>\n",
       "      <td>41</td>\n",
       "      <td>3.840542e+09</td>\n",
       "      <td>0</td>\n",
       "      <td>NA</td>\n",
       "    </tr>\n",
       "    <tr>\n",
       "      <th>4</th>\n",
       "      <td>221365</td>\n",
       "      <td>2015-07-21 07:09:52</td>\n",
       "      <td>2015-09-09 18:40:53</td>\n",
       "      <td>39</td>\n",
       "      <td>NAUITBZFJKHWW</td>\n",
       "      <td>Ads</td>\n",
       "      <td>Safari</td>\n",
       "      <td>M</td>\n",
       "      <td>45</td>\n",
       "      <td>4.155831e+08</td>\n",
       "      <td>0</td>\n",
       "      <td>United States</td>\n",
       "    </tr>\n",
       "  </tbody>\n",
       "</table>\n",
       "</div>"
      ],
      "text/plain": [
       "   user_id          signup_time        purchase_time  purchase_value  \\\n",
       "0    22058  2015-02-24 22:55:49  2015-04-18 02:47:11              34   \n",
       "1   333320  2015-06-07 20:39:50  2015-06-08 01:38:54              16   \n",
       "2     1359  2015-01-01 18:52:44  2015-01-01 18:52:45              15   \n",
       "3   150084  2015-04-28 21:13:25  2015-05-04 13:54:50              44   \n",
       "4   221365  2015-07-21 07:09:52  2015-09-09 18:40:53              39   \n",
       "\n",
       "       device_id source browser sex  age    ip_address  class        country  \n",
       "0  QVPSPJUOCKZAR    SEO  Chrome   M   39  7.327584e+08      0          Japan  \n",
       "1  EOGFQPIZPYXFZ    Ads  Chrome   F   53  3.503114e+08      0  United States  \n",
       "2  YSSKYOSJHPPLJ    SEO   Opera   M   53  2.621474e+09      1  United States  \n",
       "3  ATGTXKYKUDUQN    SEO  Safari   M   41  3.840542e+09      0             NA  \n",
       "4  NAUITBZFJKHWW    Ads  Safari   M   45  4.155831e+08      0  United States  "
      ]
     },
     "execution_count": 14,
     "metadata": {},
     "output_type": "execute_result"
    }
   ],
   "source": [
    "data.head()"
   ]
  },
  {
   "cell_type": "code",
   "execution_count": 13,
   "metadata": {},
   "outputs": [],
   "source": [
    "# With very low speed, not to use\n",
    "\n",
    "# from pandasql import sqldf\n",
    "\n",
    "#q = \"\"\"\n",
    "#   SELECT A.*,B.country\n",
    "#        FROM\n",
    "#            data A\n",
    "#        left JOIN\n",
    "#            ipaddress B\n",
    "#        ON \n",
    "#           A.ip_address <= B.upper_bound_ip_address AND\n",
    "#          A.ip_address >= B.lower_bound_ip_address;\n",
    "#   \"\"\"\n",
    "\n",
    "#data1=sqldf(q)"
   ]
  },
  {
   "cell_type": "code",
   "execution_count": 14,
   "metadata": {},
   "outputs": [
    {
     "name": "stdout",
     "output_type": "stream",
     "text": [
      "user_id              151112\t [2, 4, 8, 9, 12]\n",
      "signup_time          151112\t ['2015-01-01 00:00:42', '2015-01-01 00:00:43', '2015-01-01 00:00:44', '2015-01-01 00:00:45', '2015-01-01 00:00:46']\n",
      "purchase_time        150679\t ['2015-01-01 00:00:44', '2015-01-01 00:00:45', '2015-01-01 00:00:46', '2015-01-01 00:00:47', '2015-01-01 00:00:48']\n",
      "purchase_value         122\t [9, 10, 11, 12, 13]\n",
      "device_id            137956\t ['AAALBGNHHVMKG', 'AAAWIHVCQELTP', 'AAAXJHWCLISKY', 'AAAXXOZJRZRAO', 'AABFGRPBQHWFQ']\n",
      "source                   3\t ['Ads', 'Direct', 'SEO']\n",
      "browser                  5\t ['Chrome', 'FireFox', 'IE', 'Opera', 'Safari']\n",
      "sex                      2\t ['F', 'M']\n",
      "age                     58\t [18, 19, 20, 21, 22]\n",
      "ip_address           143512\t [52093.4968949854, 93447.13896136609, 105818.501505225, 117566.66486748, 131423.789041531]\n",
      "class                    2\t [0, 1]\n",
      "country                182\t ['Afghanistan', 'Albania', 'Algeria', 'Angola', 'Antigua and Barbuda']\n"
     ]
    }
   ],
   "source": [
    "for column in data.columns:\n",
    "    uniques = sorted(data[column].unique())\n",
    "    print('{0:20s} {1:5d}\\t'.format(column, len(uniques)), uniques[:5])"
   ]
  },
  {
   "cell_type": "code",
   "execution_count": 21,
   "metadata": {},
   "outputs": [
    {
     "data": {
      "text/plain": [
       "user_id           0\n",
       "signup_time       0\n",
       "purchase_time     0\n",
       "purchase_value    0\n",
       "device_id         0\n",
       "source            0\n",
       "browser           0\n",
       "sex               0\n",
       "age               0\n",
       "ip_address        0\n",
       "class             0\n",
       "country           0\n",
       "dtype: int64"
      ]
     },
     "execution_count": 21,
     "metadata": {},
     "output_type": "execute_result"
    }
   ],
   "source": [
    "data.isnull().sum()"
   ]
  },
  {
   "cell_type": "markdown",
   "metadata": {},
   "source": [
    "## Exploratory Data Analysis"
   ]
  },
  {
   "cell_type": "code",
   "execution_count": 59,
   "metadata": {},
   "outputs": [
    {
     "name": "stdout",
     "output_type": "stream",
     "text": [
      "Total Fraud percentage:     9.3646%\n"
     ]
    }
   ],
   "source": [
    "print('{0:25s} {1:>8.4f}%'.format('Total Fraud percentage:', data['class'].mean() * 100))"
   ]
  },
  {
   "cell_type": "code",
   "execution_count": 61,
   "metadata": {},
   "outputs": [
    {
     "data": {
      "text/html": [
       "<div>\n",
       "<style scoped>\n",
       "    .dataframe tbody tr th:only-of-type {\n",
       "        vertical-align: middle;\n",
       "    }\n",
       "\n",
       "    .dataframe tbody tr th {\n",
       "        vertical-align: top;\n",
       "    }\n",
       "\n",
       "    .dataframe thead th {\n",
       "        text-align: right;\n",
       "    }\n",
       "</style>\n",
       "<table border=\"1\" class=\"dataframe\">\n",
       "  <thead>\n",
       "    <tr style=\"text-align: right;\">\n",
       "      <th></th>\n",
       "      <th>user_id</th>\n",
       "    </tr>\n",
       "    <tr>\n",
       "      <th>class</th>\n",
       "      <th></th>\n",
       "    </tr>\n",
       "  </thead>\n",
       "  <tbody>\n",
       "    <tr>\n",
       "      <th>0</th>\n",
       "      <td>0.906354</td>\n",
       "    </tr>\n",
       "    <tr>\n",
       "      <th>1</th>\n",
       "      <td>0.093646</td>\n",
       "    </tr>\n",
       "  </tbody>\n",
       "</table>\n",
       "</div>"
      ],
      "text/plain": [
       "        user_id\n",
       "class          \n",
       "0      0.906354\n",
       "1      0.093646"
      ]
     },
     "execution_count": 61,
     "metadata": {},
     "output_type": "execute_result"
    }
   ],
   "source": [
    "data[['class','user_id']].groupby('class').count() / len(data)"
   ]
  },
  {
   "cell_type": "code",
   "execution_count": 60,
   "metadata": {},
   "outputs": [
    {
     "data": {
      "text/plain": [
       "source\n",
       "0    0.396269\n",
       "1    0.202605\n",
       "2    0.401126\n",
       "Name: user_id, dtype: float64"
      ]
     },
     "execution_count": 60,
     "metadata": {},
     "output_type": "execute_result"
    }
   ],
   "source": [
    "# Distribution\n",
    "data.groupby('source')['user_id'].count() / len(data)"
   ]
  },
  {
   "cell_type": "code",
   "execution_count": 87,
   "metadata": {},
   "outputs": [
    {
     "data": {
      "text/html": [
       "<div>\n",
       "<style scoped>\n",
       "    .dataframe tbody tr th:only-of-type {\n",
       "        vertical-align: middle;\n",
       "    }\n",
       "\n",
       "    .dataframe tbody tr th {\n",
       "        vertical-align: top;\n",
       "    }\n",
       "\n",
       "    .dataframe thead th {\n",
       "        text-align: right;\n",
       "    }\n",
       "</style>\n",
       "<table border=\"1\" class=\"dataframe\">\n",
       "  <thead>\n",
       "    <tr style=\"text-align: right;\">\n",
       "      <th></th>\n",
       "      <th>source</th>\n",
       "      <th>class</th>\n",
       "    </tr>\n",
       "  </thead>\n",
       "  <tbody>\n",
       "    <tr>\n",
       "      <th>0</th>\n",
       "      <td>SEO</td>\n",
       "      <td>0.089285</td>\n",
       "    </tr>\n",
       "    <tr>\n",
       "      <th>1</th>\n",
       "      <td>Ads</td>\n",
       "      <td>0.092066</td>\n",
       "    </tr>\n",
       "    <tr>\n",
       "      <th>2</th>\n",
       "      <td>Direct</td>\n",
       "      <td>0.105370</td>\n",
       "    </tr>\n",
       "  </tbody>\n",
       "</table>\n",
       "</div>"
      ],
      "text/plain": [
       "   source     class\n",
       "0     SEO  0.089285\n",
       "1     Ads  0.092066\n",
       "2  Direct  0.105370"
      ]
     },
     "execution_count": 87,
     "metadata": {},
     "output_type": "execute_result"
    }
   ],
   "source": [
    "# Visualization of different source\n",
    "grouped = data[['source', 'class']].groupby('source').mean().sort_values('class').reset_index()\n",
    "grouped.head()"
   ]
  },
  {
   "cell_type": "code",
   "execution_count": 62,
   "metadata": {},
   "outputs": [
    {
     "data": {
      "image/png": "[encoded data removed]",
      "text/plain": [
       "<Figure size 1296x432 with 2 Axes>"
      ]
     },
     "metadata": {
      "needs_background": "light"
     },
     "output_type": "display_data"
    }
   ],
   "source": [
    "fig, ax = plt.subplots(nrows=1, ncols=2, figsize=(18, 6))\n",
    "sns.countplot(x='source', hue='class', data=data, ax=ax[0])\n",
    "ax[0].set_title('Count Plot of Source', fontsize=16)\n",
    "sns.barplot(x='source', y='class', data=data, ax=ax[1]);\n",
    "ax[1].set_title('Mean Fraud Rate per Source', fontsize=16)\n",
    "ax[1].set_ylabel('Rate', fontsize=12)\n",
    "plt.tight_layout()\n",
    "plt.show()"
   ]
  },
  {
   "cell_type": "code",
   "execution_count": 88,
   "metadata": {},
   "outputs": [
    {
     "data": {
      "text/html": [
       "<div>\n",
       "<style scoped>\n",
       "    .dataframe tbody tr th:only-of-type {\n",
       "        vertical-align: middle;\n",
       "    }\n",
       "\n",
       "    .dataframe tbody tr th {\n",
       "        vertical-align: top;\n",
       "    }\n",
       "\n",
       "    .dataframe thead th {\n",
       "        text-align: right;\n",
       "    }\n",
       "</style>\n",
       "<table border=\"1\" class=\"dataframe\">\n",
       "  <thead>\n",
       "    <tr style=\"text-align: right;\">\n",
       "      <th></th>\n",
       "      <th>sex</th>\n",
       "      <th>class</th>\n",
       "    </tr>\n",
       "  </thead>\n",
       "  <tbody>\n",
       "    <tr>\n",
       "      <th>0</th>\n",
       "      <td>F</td>\n",
       "      <td>0.091007</td>\n",
       "    </tr>\n",
       "    <tr>\n",
       "      <th>1</th>\n",
       "      <td>M</td>\n",
       "      <td>0.095523</td>\n",
       "    </tr>\n",
       "  </tbody>\n",
       "</table>\n",
       "</div>"
      ],
      "text/plain": [
       "  sex     class\n",
       "0   F  0.091007\n",
       "1   M  0.095523"
      ]
     },
     "execution_count": 88,
     "metadata": {},
     "output_type": "execute_result"
    }
   ],
   "source": [
    "# Visualization of different sex\n",
    "grouped = data[['sex', 'class']].groupby('sex').mean().reset_index()\n",
    "grouped.head()"
   ]
  },
  {
   "cell_type": "code",
   "execution_count": 63,
   "metadata": {},
   "outputs": [
    {
     "data": {
      "image/png": "[encoded data removed]",
      "text/plain": [
       "<Figure size 1296x432 with 2 Axes>"
      ]
     },
     "metadata": {
      "needs_background": "light"
     },
     "output_type": "display_data"
    }
   ],
   "source": [
    "fig, ax = plt.subplots(nrows=1, ncols=2, figsize=(18, 6))\n",
    "sns.countplot(x='sex', hue='class', data=data, ax=ax[0])\n",
    "ax[0].set_title('Count Plot of Sex', fontsize=16)\n",
    "sns.barplot(x='sex', y='class', data=data, ax=ax[1]);\n",
    "ax[1].set_title('Mean Fraud Rate per Sex', fontsize=16)\n",
    "ax[1].set_ylabel('Rate', fontsize=12)\n",
    "plt.tight_layout()\n",
    "plt.show()"
   ]
  },
  {
   "cell_type": "code",
   "execution_count": 91,
   "metadata": {},
   "outputs": [
    {
     "data": {
      "text/html": [
       "<div>\n",
       "<style scoped>\n",
       "    .dataframe tbody tr th:only-of-type {\n",
       "        vertical-align: middle;\n",
       "    }\n",
       "\n",
       "    .dataframe tbody tr th {\n",
       "        vertical-align: top;\n",
       "    }\n",
       "\n",
       "    .dataframe thead th {\n",
       "        text-align: right;\n",
       "    }\n",
       "</style>\n",
       "<table border=\"1\" class=\"dataframe\">\n",
       "  <thead>\n",
       "    <tr style=\"text-align: right;\">\n",
       "      <th></th>\n",
       "      <th>browser</th>\n",
       "      <th>class</th>\n",
       "    </tr>\n",
       "  </thead>\n",
       "  <tbody>\n",
       "    <tr>\n",
       "      <th>0</th>\n",
       "      <td>IE</td>\n",
       "      <td>0.086775</td>\n",
       "    </tr>\n",
       "    <tr>\n",
       "      <th>1</th>\n",
       "      <td>Opera</td>\n",
       "      <td>0.089227</td>\n",
       "    </tr>\n",
       "    <tr>\n",
       "      <th>2</th>\n",
       "      <td>Safari</td>\n",
       "      <td>0.090201</td>\n",
       "    </tr>\n",
       "    <tr>\n",
       "      <th>3</th>\n",
       "      <td>FireFox</td>\n",
       "      <td>0.095165</td>\n",
       "    </tr>\n",
       "    <tr>\n",
       "      <th>4</th>\n",
       "      <td>Chrome</td>\n",
       "      <td>0.098792</td>\n",
       "    </tr>\n",
       "  </tbody>\n",
       "</table>\n",
       "</div>"
      ],
      "text/plain": [
       "   browser     class\n",
       "0       IE  0.086775\n",
       "1    Opera  0.089227\n",
       "2   Safari  0.090201\n",
       "3  FireFox  0.095165\n",
       "4   Chrome  0.098792"
      ]
     },
     "execution_count": 91,
     "metadata": {},
     "output_type": "execute_result"
    }
   ],
   "source": [
    "# Visualization of different browser           \n",
    "grouped = data[['browser', 'class']].groupby('browser').mean().sort_values('class').reset_index()\n",
    "grouped.head()"
   ]
  },
  {
   "cell_type": "code",
   "execution_count": 64,
   "metadata": {},
   "outputs": [
    {
     "data": {
      "image/png": "[encoded data removed]",
      "text/plain": [
       "<Figure size 1296x432 with 2 Axes>"
      ]
     },
     "metadata": {
      "needs_background": "light"
     },
     "output_type": "display_data"
    }
   ],
   "source": [
    "fig, ax = plt.subplots(nrows=1, ncols=2, figsize=(18, 6))\n",
    "sns.countplot(x='browser', hue='class', data=data, ax=ax[0])\n",
    "ax[0].set_title('Count Plot of Browser', fontsize=16)\n",
    "sns.barplot(x='browser', y='class', data=data, ax=ax[1]);\n",
    "ax[1].set_title('Mean Fraud Rate per Browser', fontsize=16)\n",
    "ax[1].set_ylabel('Rate', fontsize=12)\n",
    "plt.tight_layout()\n",
    "plt.show()"
   ]
  },
  {
   "cell_type": "code",
   "execution_count": 28,
   "metadata": {},
   "outputs": [
    {
     "data": {
      "image/png": "[encoded data removed]",
      "text/plain": [
       "<Figure size 1296x432 with 2 Axes>"
      ]
     },
     "metadata": {
      "needs_background": "light"
     },
     "output_type": "display_data"
    }
   ],
   "source": [
    "# Visualization of different sources\n",
    "grouped = data[['age', 'class']].groupby('age').mean().reset_index()\n",
    "hist_kws={'histtype': 'bar', 'edgecolor':'black', 'alpha': 0.2}\n",
    "\n",
    "fig, ax = plt.subplots(nrows=1, ncols=2, figsize=(18, 6))\n",
    "sns.distplot(data[data['class'] == 0]['age'], label='Class 0', \n",
    "             ax=ax[0], hist_kws=hist_kws)\n",
    "sns.distplot(data[data['class'] == 1]['age'], label='Class 1', \n",
    "             ax=ax[0], hist_kws=hist_kws)\n",
    "ax[0].set_title('Count Plot of Age', fontsize=16)\n",
    "ax[0].legend()\n",
    "ax[1].plot(grouped['age'], grouped['class'], '.-')\n",
    "ax[1].set_title('Mean Fraud Rate vs. Age', fontsize=16)\n",
    "ax[1].set_xlabel('Age')\n",
    "ax[1].set_ylabel('Mean Fraud rate')\n",
    "ax[1].grid(True)\n",
    "plt.show()"
   ]
  },
  {
   "cell_type": "code",
   "execution_count": 93,
   "metadata": {},
   "outputs": [
    {
     "data": {
      "text/plain": [
       "count    136961.000000\n",
       "mean         33.122356\n",
       "std           8.622678\n",
       "min          18.000000\n",
       "25%          27.000000\n",
       "50%          33.000000\n",
       "75%          39.000000\n",
       "max          76.000000\n",
       "Name: age, dtype: float64"
      ]
     },
     "execution_count": 93,
     "metadata": {},
     "output_type": "execute_result"
    }
   ],
   "source": [
    "class0=data[data['class']==0]['age']\n",
    "class0.describe()"
   ]
  },
  {
   "cell_type": "code",
   "execution_count": 94,
   "metadata": {},
   "outputs": [
    {
     "data": {
      "text/plain": [
       "count    14151.000000\n",
       "mean        33.318281\n",
       "std          8.568001\n",
       "min         18.000000\n",
       "25%         27.000000\n",
       "50%         33.000000\n",
       "75%         39.000000\n",
       "max         68.000000\n",
       "Name: age, dtype: float64"
      ]
     },
     "execution_count": 94,
     "metadata": {},
     "output_type": "execute_result"
    }
   ],
   "source": [
    "class1=data[data['class']==1]['age']\n",
    "class1.describe()"
   ]
  },
  {
   "cell_type": "markdown",
   "metadata": {},
   "source": [
    "## Create Table for Day, Source and Total # of Fraud"
   ]
  },
  {
   "cell_type": "code",
   "execution_count": 29,
   "metadata": {},
   "outputs": [
    {
     "name": "stdout",
     "output_type": "stream",
     "text": [
      "DatetimeIndex(['2015-01-01', '2015-01-02', '2015-01-03', '2015-01-04',\n",
      "               '2015-01-05', '2015-01-06'],\n",
      "              dtype='datetime64[ns]', freq='D')\n",
      "['Ads', 'Direct', 'SEO']\n"
     ]
    }
   ],
   "source": [
    "# Define table\n",
    "unique_date=pd.date_range(start='2015-01-01',end='2015-12-31',freq='D')\n",
    "unique_source=sorted(data['source'].unique())\n",
    "print(unique_date[0:6])\n",
    "print(unique_source)"
   ]
  },
  {
   "cell_type": "code",
   "execution_count": 30,
   "metadata": {},
   "outputs": [],
   "source": [
    "day = []\n",
    "source = []\n",
    "fraud = []\n",
    "for date in unique_date:\n",
    "    for idx in unique_source:\n",
    "        total_fraud=len(data[(data['purchase_time']<=date) & (data['source']==idx)])\n",
    "        day.append(date)\n",
    "        source.append(idx)\n",
    "        fraud.append(total_fraud)\n",
    "        \n",
    "table=pd.DataFrame({'day':day,'Source':source,'Total Fraud':fraud}, columns=\n",
    "                  ['day','Source','Total Fraud']) "
   ]
  },
  {
   "cell_type": "code",
   "execution_count": 32,
   "metadata": {},
   "outputs": [
    {
     "data": {
      "text/html": [
       "<div>\n",
       "<style scoped>\n",
       "    .dataframe tbody tr th:only-of-type {\n",
       "        vertical-align: middle;\n",
       "    }\n",
       "\n",
       "    .dataframe tbody tr th {\n",
       "        vertical-align: top;\n",
       "    }\n",
       "\n",
       "    .dataframe thead th {\n",
       "        text-align: right;\n",
       "    }\n",
       "</style>\n",
       "<table border=\"1\" class=\"dataframe\">\n",
       "  <thead>\n",
       "    <tr style=\"text-align: right;\">\n",
       "      <th></th>\n",
       "      <th>day</th>\n",
       "      <th>Source</th>\n",
       "      <th>Total Fraud</th>\n",
       "    </tr>\n",
       "  </thead>\n",
       "  <tbody>\n",
       "    <tr>\n",
       "      <th>0</th>\n",
       "      <td>2015-01-01</td>\n",
       "      <td>Ads</td>\n",
       "      <td>0</td>\n",
       "    </tr>\n",
       "    <tr>\n",
       "      <th>1</th>\n",
       "      <td>2015-01-01</td>\n",
       "      <td>Direct</td>\n",
       "      <td>0</td>\n",
       "    </tr>\n",
       "    <tr>\n",
       "      <th>2</th>\n",
       "      <td>2015-01-01</td>\n",
       "      <td>SEO</td>\n",
       "      <td>0</td>\n",
       "    </tr>\n",
       "    <tr>\n",
       "      <th>3</th>\n",
       "      <td>2015-01-02</td>\n",
       "      <td>Ads</td>\n",
       "      <td>234</td>\n",
       "    </tr>\n",
       "    <tr>\n",
       "      <th>4</th>\n",
       "      <td>2015-01-02</td>\n",
       "      <td>Direct</td>\n",
       "      <td>133</td>\n",
       "    </tr>\n",
       "    <tr>\n",
       "      <th>5</th>\n",
       "      <td>2015-01-02</td>\n",
       "      <td>SEO</td>\n",
       "      <td>204</td>\n",
       "    </tr>\n",
       "    <tr>\n",
       "      <th>6</th>\n",
       "      <td>2015-01-03</td>\n",
       "      <td>Ads</td>\n",
       "      <td>545</td>\n",
       "    </tr>\n",
       "    <tr>\n",
       "      <th>7</th>\n",
       "      <td>2015-01-03</td>\n",
       "      <td>Direct</td>\n",
       "      <td>312</td>\n",
       "    </tr>\n",
       "    <tr>\n",
       "      <th>8</th>\n",
       "      <td>2015-01-03</td>\n",
       "      <td>SEO</td>\n",
       "      <td>450</td>\n",
       "    </tr>\n",
       "    <tr>\n",
       "      <th>9</th>\n",
       "      <td>2015-01-04</td>\n",
       "      <td>Ads</td>\n",
       "      <td>720</td>\n",
       "    </tr>\n",
       "    <tr>\n",
       "      <th>10</th>\n",
       "      <td>2015-01-04</td>\n",
       "      <td>Direct</td>\n",
       "      <td>418</td>\n",
       "    </tr>\n",
       "    <tr>\n",
       "      <th>11</th>\n",
       "      <td>2015-01-04</td>\n",
       "      <td>SEO</td>\n",
       "      <td>727</td>\n",
       "    </tr>\n",
       "    <tr>\n",
       "      <th>12</th>\n",
       "      <td>2015-01-05</td>\n",
       "      <td>Ads</td>\n",
       "      <td>924</td>\n",
       "    </tr>\n",
       "    <tr>\n",
       "      <th>13</th>\n",
       "      <td>2015-01-05</td>\n",
       "      <td>Direct</td>\n",
       "      <td>537</td>\n",
       "    </tr>\n",
       "    <tr>\n",
       "      <th>14</th>\n",
       "      <td>2015-01-05</td>\n",
       "      <td>SEO</td>\n",
       "      <td>1043</td>\n",
       "    </tr>\n",
       "    <tr>\n",
       "      <th>15</th>\n",
       "      <td>2015-01-06</td>\n",
       "      <td>Ads</td>\n",
       "      <td>1121</td>\n",
       "    </tr>\n",
       "    <tr>\n",
       "      <th>16</th>\n",
       "      <td>2015-01-06</td>\n",
       "      <td>Direct</td>\n",
       "      <td>705</td>\n",
       "    </tr>\n",
       "    <tr>\n",
       "      <th>17</th>\n",
       "      <td>2015-01-06</td>\n",
       "      <td>SEO</td>\n",
       "      <td>1256</td>\n",
       "    </tr>\n",
       "    <tr>\n",
       "      <th>18</th>\n",
       "      <td>2015-01-07</td>\n",
       "      <td>Ads</td>\n",
       "      <td>1384</td>\n",
       "    </tr>\n",
       "    <tr>\n",
       "      <th>19</th>\n",
       "      <td>2015-01-07</td>\n",
       "      <td>Direct</td>\n",
       "      <td>846</td>\n",
       "    </tr>\n",
       "  </tbody>\n",
       "</table>\n",
       "</div>"
      ],
      "text/plain": [
       "          day  Source  Total Fraud\n",
       "0  2015-01-01     Ads            0\n",
       "1  2015-01-01  Direct            0\n",
       "2  2015-01-01     SEO            0\n",
       "3  2015-01-02     Ads          234\n",
       "4  2015-01-02  Direct          133\n",
       "5  2015-01-02     SEO          204\n",
       "6  2015-01-03     Ads          545\n",
       "7  2015-01-03  Direct          312\n",
       "8  2015-01-03     SEO          450\n",
       "9  2015-01-04     Ads          720\n",
       "10 2015-01-04  Direct          418\n",
       "11 2015-01-04     SEO          727\n",
       "12 2015-01-05     Ads          924\n",
       "13 2015-01-05  Direct          537\n",
       "14 2015-01-05     SEO         1043\n",
       "15 2015-01-06     Ads         1121\n",
       "16 2015-01-06  Direct          705\n",
       "17 2015-01-06     SEO         1256\n",
       "18 2015-01-07     Ads         1384\n",
       "19 2015-01-07  Direct          846"
      ]
     },
     "execution_count": 32,
     "metadata": {},
     "output_type": "execute_result"
    }
   ],
   "source": [
    "table.head(20)"
   ]
  },
  {
   "cell_type": "markdown",
   "metadata": {},
   "source": [
    "## Feature Engineering"
   ]
  },
  {
   "cell_type": "markdown",
   "metadata": {},
   "source": [
    "1. Time difference between sign-up time and purchase time\n",
    "2. If the device id is unique or certain users are sharing the same device (many different user ids using the same device could be an indicator of fake accounts)\n",
    "3. Same for the ip address. Many different users having the same ip address could be an indicator of fake accounts\n",
    "4. Usual week of the year and day of the week from time variables"
   ]
  },
  {
   "cell_type": "code",
   "execution_count": 15,
   "metadata": {},
   "outputs": [],
   "source": [
    "# Get the time difference between purchase time and signup time\n",
    "data['purchase_time'] = pd.to_datetime(data['purchase_time'])\n",
    "data['signup_time'] = pd.to_datetime(data['signup_time'])\n",
    "time_diff=data['purchase_time']-data['signup_time']\n",
    "time_diff=time_diff.apply(lambda x :x.seconds)\n",
    "data['time_diff']=time_diff"
   ]
  },
  {
   "cell_type": "code",
   "execution_count": 43,
   "metadata": {},
   "outputs": [
    {
     "data": {
      "image/png": "[encoded data removed]",
      "text/plain": [
       "<Figure size 1296x432 with 1 Axes>"
      ]
     },
     "metadata": {
      "needs_background": "light"
     },
     "output_type": "display_data"
    }
   ],
   "source": [
    "# Visualization of different time_diff\n",
    "grouped = data[['time_diff', 'class']].groupby('time_diff').mean().reset_index()\n",
    "hist_kws={'histtype': 'bar', 'edgecolor':'black', 'alpha': 0.2}\n",
    "\n",
    "fig, ax = plt.subplots(nrows=1, ncols=1, figsize=(18, 6))\n",
    "sns.distplot(data[data['class'] == 0]['time_diff'],kde=False, label='Class 0', \n",
    "             ax=ax, hist_kws=hist_kws)\n",
    "sns.distplot(data[data['class'] == 1]['time_diff'],kde=False, label='Class 1', \n",
    "             ax=ax, hist_kws=hist_kws)\n",
    "ax.set_title('Histogram of time_diff', fontsize=16)\n",
    "ax.legend()\n",
    "#ax[1].plot(grouped['time_diff'], grouped['class'], '.-')\n",
    "#ax[1].set_title('Mean Fraud Rate vs. time_diff', fontsize=16)\n",
    "#ax[1].set_xlabel('time_diff')\n",
    "#ax[1].set_ylabel('Mean Fraud rate')\n",
    "#ax[1].grid(True)\n",
    "plt.show()"
   ]
  },
  {
   "cell_type": "code",
   "execution_count": 70,
   "metadata": {},
   "outputs": [
    {
     "data": {
      "text/html": [
       "<div>\n",
       "<style scoped>\n",
       "    .dataframe tbody tr th:only-of-type {\n",
       "        vertical-align: middle;\n",
       "    }\n",
       "\n",
       "    .dataframe tbody tr th {\n",
       "        vertical-align: top;\n",
       "    }\n",
       "\n",
       "    .dataframe thead th {\n",
       "        text-align: right;\n",
       "    }\n",
       "</style>\n",
       "<table border=\"1\" class=\"dataframe\">\n",
       "  <thead>\n",
       "    <tr style=\"text-align: right;\">\n",
       "      <th></th>\n",
       "      <th>device_id</th>\n",
       "      <th>users_for_same_device</th>\n",
       "    </tr>\n",
       "  </thead>\n",
       "  <tbody>\n",
       "    <tr>\n",
       "      <th>54521</th>\n",
       "      <td>KIPFSCNUGOLDP</td>\n",
       "      <td>20</td>\n",
       "    </tr>\n",
       "    <tr>\n",
       "      <th>69916</th>\n",
       "      <td>NGQCKIADMZORL</td>\n",
       "      <td>20</td>\n",
       "    </tr>\n",
       "    <tr>\n",
       "      <th>14100</th>\n",
       "      <td>CQTUVBYIWWWBC</td>\n",
       "      <td>20</td>\n",
       "    </tr>\n",
       "    <tr>\n",
       "      <th>46203</th>\n",
       "      <td>ITUMJCKWEYNDD</td>\n",
       "      <td>20</td>\n",
       "    </tr>\n",
       "    <tr>\n",
       "      <th>24607</th>\n",
       "      <td>EQYVNEGOFLAWK</td>\n",
       "      <td>20</td>\n",
       "    </tr>\n",
       "  </tbody>\n",
       "</table>\n",
       "</div>"
      ],
      "text/plain": [
       "           device_id  users_for_same_device\n",
       "54521  KIPFSCNUGOLDP                     20\n",
       "69916  NGQCKIADMZORL                     20\n",
       "14100  CQTUVBYIWWWBC                     20\n",
       "46203  ITUMJCKWEYNDD                     20\n",
       "24607  EQYVNEGOFLAWK                     20"
      ]
     },
     "execution_count": 70,
     "metadata": {},
     "output_type": "execute_result"
    }
   ],
   "source": [
    "# Get different user number for each unique devices\n",
    "device_num=data[['user_id','device_id']].groupby('device_id').count().reset_index()\n",
    "device_num=device_num.rename(columns={'user_id':'users_for_same_device'})\n",
    "data=data.merge(device_num,how='left',on='device_id')\n",
    "device_num.sort_values(by='users_for_same_device', ascending=False).head()"
   ]
  },
  {
   "cell_type": "code",
   "execution_count": 65,
   "metadata": {},
   "outputs": [],
   "source": [
    "def unique_count(x):\n",
    "    \"\"\" function to count the unique user_id \"\"\"\n",
    "    return len(np.unique(x))"
   ]
  },
  {
   "cell_type": "code",
   "execution_count": 68,
   "metadata": {},
   "outputs": [
    {
     "data": {
      "text/html": [
       "<div>\n",
       "<style scoped>\n",
       "    .dataframe tbody tr th:only-of-type {\n",
       "        vertical-align: middle;\n",
       "    }\n",
       "\n",
       "    .dataframe tbody tr th {\n",
       "        vertical-align: top;\n",
       "    }\n",
       "\n",
       "    .dataframe thead th {\n",
       "        text-align: right;\n",
       "    }\n",
       "</style>\n",
       "<table border=\"1\" class=\"dataframe\">\n",
       "  <thead>\n",
       "    <tr style=\"text-align: right;\">\n",
       "      <th></th>\n",
       "      <th>device_id</th>\n",
       "      <th>user_count</th>\n",
       "    </tr>\n",
       "  </thead>\n",
       "  <tbody>\n",
       "    <tr>\n",
       "      <th>54521</th>\n",
       "      <td>KIPFSCNUGOLDP</td>\n",
       "      <td>20</td>\n",
       "    </tr>\n",
       "    <tr>\n",
       "      <th>69916</th>\n",
       "      <td>NGQCKIADMZORL</td>\n",
       "      <td>20</td>\n",
       "    </tr>\n",
       "    <tr>\n",
       "      <th>14100</th>\n",
       "      <td>CQTUVBYIWWWBC</td>\n",
       "      <td>20</td>\n",
       "    </tr>\n",
       "    <tr>\n",
       "      <th>46203</th>\n",
       "      <td>ITUMJCKWEYNDD</td>\n",
       "      <td>20</td>\n",
       "    </tr>\n",
       "    <tr>\n",
       "      <th>24607</th>\n",
       "      <td>EQYVNEGOFLAWK</td>\n",
       "      <td>20</td>\n",
       "    </tr>\n",
       "  </tbody>\n",
       "</table>\n",
       "</div>"
      ],
      "text/plain": [
       "           device_id  user_count\n",
       "54521  KIPFSCNUGOLDP          20\n",
       "69916  NGQCKIADMZORL          20\n",
       "14100  CQTUVBYIWWWBC          20\n",
       "46203  ITUMJCKWEYNDD          20\n",
       "24607  EQYVNEGOFLAWK          20"
      ]
     },
     "execution_count": 68,
     "metadata": {},
     "output_type": "execute_result"
    }
   ],
   "source": [
    "different_user_count = data.groupby('device_id')['user_id'].apply(unique_count).reset_index()\n",
    "different_user_count = different_user_count.rename(columns={'user_id': 'user_count'})\n",
    "different_user_count = different_user_count.sort_values(by='user_count', ascending=False)\n",
    "different_user_count.head()"
   ]
  },
  {
   "cell_type": "code",
   "execution_count": 17,
   "metadata": {},
   "outputs": [],
   "source": [
    "# Get different user number for each unique ip_address\n",
    "ip_num=data[['user_id','ip_address']].groupby('ip_address').count().reset_index()\n",
    "ip_num=ip_num.rename(columns={'user_id':'users_for_same_ip'})\n",
    "data=data.merge(ip_num,how='left',on='ip_address')"
   ]
  },
  {
   "cell_type": "code",
   "execution_count": 18,
   "metadata": {},
   "outputs": [],
   "source": [
    "## Signup day and week\n",
    "data['signup_day'] = data['signup_time'].apply(lambda x: x.dayofweek)\n",
    "data['signup_week'] = data['signup_time'].apply(lambda x: x.week)\n",
    "\n",
    "# Purchase day and week\n",
    "data['purchase_day'] = data['purchase_time'].apply(lambda x: x.dayofweek)\n",
    "data['purchase_week'] = data['purchase_time'].apply(lambda x: x.week)"
   ]
  },
  {
   "cell_type": "code",
   "execution_count": 19,
   "metadata": {},
   "outputs": [
    {
     "data": {
      "text/html": [
       "<div>\n",
       "<style scoped>\n",
       "    .dataframe tbody tr th:only-of-type {\n",
       "        vertical-align: middle;\n",
       "    }\n",
       "\n",
       "    .dataframe tbody tr th {\n",
       "        vertical-align: top;\n",
       "    }\n",
       "\n",
       "    .dataframe thead th {\n",
       "        text-align: right;\n",
       "    }\n",
       "</style>\n",
       "<table border=\"1\" class=\"dataframe\">\n",
       "  <thead>\n",
       "    <tr style=\"text-align: right;\">\n",
       "      <th></th>\n",
       "      <th>user_id</th>\n",
       "      <th>signup_time</th>\n",
       "      <th>purchase_time</th>\n",
       "      <th>purchase_value</th>\n",
       "      <th>device_id</th>\n",
       "      <th>source</th>\n",
       "      <th>browser</th>\n",
       "      <th>sex</th>\n",
       "      <th>age</th>\n",
       "      <th>ip_address</th>\n",
       "      <th>class</th>\n",
       "      <th>country</th>\n",
       "      <th>time_diff</th>\n",
       "      <th>users_for_same_device</th>\n",
       "      <th>users_for_same_ip</th>\n",
       "      <th>signup_day</th>\n",
       "      <th>signup_week</th>\n",
       "      <th>purchase_day</th>\n",
       "      <th>purchase_week</th>\n",
       "    </tr>\n",
       "  </thead>\n",
       "  <tbody>\n",
       "    <tr>\n",
       "      <th>0</th>\n",
       "      <td>22058</td>\n",
       "      <td>2015-02-24 22:55:49</td>\n",
       "      <td>2015-04-18 02:47:11</td>\n",
       "      <td>34</td>\n",
       "      <td>QVPSPJUOCKZAR</td>\n",
       "      <td>SEO</td>\n",
       "      <td>Chrome</td>\n",
       "      <td>M</td>\n",
       "      <td>39</td>\n",
       "      <td>7.327584e+08</td>\n",
       "      <td>0</td>\n",
       "      <td>Japan</td>\n",
       "      <td>13882</td>\n",
       "      <td>1</td>\n",
       "      <td>1</td>\n",
       "      <td>1</td>\n",
       "      <td>9</td>\n",
       "      <td>5</td>\n",
       "      <td>16</td>\n",
       "    </tr>\n",
       "    <tr>\n",
       "      <th>1</th>\n",
       "      <td>333320</td>\n",
       "      <td>2015-06-07 20:39:50</td>\n",
       "      <td>2015-06-08 01:38:54</td>\n",
       "      <td>16</td>\n",
       "      <td>EOGFQPIZPYXFZ</td>\n",
       "      <td>Ads</td>\n",
       "      <td>Chrome</td>\n",
       "      <td>F</td>\n",
       "      <td>53</td>\n",
       "      <td>3.503114e+08</td>\n",
       "      <td>0</td>\n",
       "      <td>United States</td>\n",
       "      <td>17944</td>\n",
       "      <td>1</td>\n",
       "      <td>1</td>\n",
       "      <td>6</td>\n",
       "      <td>23</td>\n",
       "      <td>0</td>\n",
       "      <td>24</td>\n",
       "    </tr>\n",
       "    <tr>\n",
       "      <th>2</th>\n",
       "      <td>1359</td>\n",
       "      <td>2015-01-01 18:52:44</td>\n",
       "      <td>2015-01-01 18:52:45</td>\n",
       "      <td>15</td>\n",
       "      <td>YSSKYOSJHPPLJ</td>\n",
       "      <td>SEO</td>\n",
       "      <td>Opera</td>\n",
       "      <td>M</td>\n",
       "      <td>53</td>\n",
       "      <td>2.621474e+09</td>\n",
       "      <td>1</td>\n",
       "      <td>United States</td>\n",
       "      <td>1</td>\n",
       "      <td>12</td>\n",
       "      <td>12</td>\n",
       "      <td>3</td>\n",
       "      <td>1</td>\n",
       "      <td>3</td>\n",
       "      <td>1</td>\n",
       "    </tr>\n",
       "    <tr>\n",
       "      <th>3</th>\n",
       "      <td>150084</td>\n",
       "      <td>2015-04-28 21:13:25</td>\n",
       "      <td>2015-05-04 13:54:50</td>\n",
       "      <td>44</td>\n",
       "      <td>ATGTXKYKUDUQN</td>\n",
       "      <td>SEO</td>\n",
       "      <td>Safari</td>\n",
       "      <td>M</td>\n",
       "      <td>41</td>\n",
       "      <td>3.840542e+09</td>\n",
       "      <td>0</td>\n",
       "      <td>NA</td>\n",
       "      <td>60085</td>\n",
       "      <td>1</td>\n",
       "      <td>1</td>\n",
       "      <td>1</td>\n",
       "      <td>18</td>\n",
       "      <td>0</td>\n",
       "      <td>19</td>\n",
       "    </tr>\n",
       "    <tr>\n",
       "      <th>4</th>\n",
       "      <td>221365</td>\n",
       "      <td>2015-07-21 07:09:52</td>\n",
       "      <td>2015-09-09 18:40:53</td>\n",
       "      <td>39</td>\n",
       "      <td>NAUITBZFJKHWW</td>\n",
       "      <td>Ads</td>\n",
       "      <td>Safari</td>\n",
       "      <td>M</td>\n",
       "      <td>45</td>\n",
       "      <td>4.155831e+08</td>\n",
       "      <td>0</td>\n",
       "      <td>United States</td>\n",
       "      <td>41461</td>\n",
       "      <td>1</td>\n",
       "      <td>1</td>\n",
       "      <td>1</td>\n",
       "      <td>30</td>\n",
       "      <td>2</td>\n",
       "      <td>37</td>\n",
       "    </tr>\n",
       "  </tbody>\n",
       "</table>\n",
       "</div>"
      ],
      "text/plain": [
       "   user_id         signup_time       purchase_time  purchase_value  \\\n",
       "0    22058 2015-02-24 22:55:49 2015-04-18 02:47:11              34   \n",
       "1   333320 2015-06-07 20:39:50 2015-06-08 01:38:54              16   \n",
       "2     1359 2015-01-01 18:52:44 2015-01-01 18:52:45              15   \n",
       "3   150084 2015-04-28 21:13:25 2015-05-04 13:54:50              44   \n",
       "4   221365 2015-07-21 07:09:52 2015-09-09 18:40:53              39   \n",
       "\n",
       "       device_id source browser sex  age    ip_address  class        country  \\\n",
       "0  QVPSPJUOCKZAR    SEO  Chrome   M   39  7.327584e+08      0          Japan   \n",
       "1  EOGFQPIZPYXFZ    Ads  Chrome   F   53  3.503114e+08      0  United States   \n",
       "2  YSSKYOSJHPPLJ    SEO   Opera   M   53  2.621474e+09      1  United States   \n",
       "3  ATGTXKYKUDUQN    SEO  Safari   M   41  3.840542e+09      0             NA   \n",
       "4  NAUITBZFJKHWW    Ads  Safari   M   45  4.155831e+08      0  United States   \n",
       "\n",
       "   time_diff  users_for_same_device  users_for_same_ip  signup_day  \\\n",
       "0      13882                      1                  1           1   \n",
       "1      17944                      1                  1           6   \n",
       "2          1                     12                 12           3   \n",
       "3      60085                      1                  1           1   \n",
       "4      41461                      1                  1           1   \n",
       "\n",
       "   signup_week  purchase_day  purchase_week  \n",
       "0            9             5             16  \n",
       "1           23             0             24  \n",
       "2            1             3              1  \n",
       "3           18             0             19  \n",
       "4           30             2             37  "
      ]
     },
     "execution_count": 19,
     "metadata": {},
     "output_type": "execute_result"
    }
   ],
   "source": [
    "data.head()"
   ]
  },
  {
   "cell_type": "markdown",
   "metadata": {},
   "source": [
    "## H2O Random Forest"
   ]
  },
  {
   "cell_type": "code",
   "execution_count": 72,
   "metadata": {},
   "outputs": [
    {
     "name": "stdout",
     "output_type": "stream",
     "text": [
      "Checking whether there is an H2O instance running at http://localhost:54321 ..... not found.\n",
      "Attempting to start a local H2O server...\n",
      "; Java HotSpot(TM) 64-Bit Server VM (build 25.162-b12, mixed mode)\n",
      "  Starting server from D:\\Anaconda3\\envs\\py36\\lib\\site-packages\\h2o\\backend\\bin\\h2o.jar\n",
      "  Ice root: C:\\Users\\DELL\\AppData\\Local\\Temp\\tmp3v9jsw7t\n",
      "  JVM stdout: C:\\Users\\DELL\\AppData\\Local\\Temp\\tmp3v9jsw7t\\h2o_ALEX_started_from_python.out\n",
      "  JVM stderr: C:\\Users\\DELL\\AppData\\Local\\Temp\\tmp3v9jsw7t\\h2o_ALEX_started_from_python.err\n",
      "  Server is running at http://127.0.0.1:54321\n",
      "Connecting to H2O server at http://127.0.0.1:54321 ... successful.\n",
      "Warning: Your H2O cluster version is too old (7 months)! Please download and install the latest version from http://h2o.ai/download/\n"
     ]
    },
    {
     "data": {
      "text/html": [
       "<div style=\"overflow:auto\"><table style=\"width:50%\"><tr><td>H2O_cluster_uptime:</td>\n",
       "<td>12 secs</td></tr>\n",
       "<tr><td>H2O_cluster_timezone:</td>\n",
       "<td>America/Los_Angeles</td></tr>\n",
       "<tr><td>H2O_data_parsing_timezone:</td>\n",
       "<td>UTC</td></tr>\n",
       "<tr><td>H2O_cluster_version:</td>\n",
       "<td>3.30.0.4</td></tr>\n",
       "<tr><td>H2O_cluster_version_age:</td>\n",
       "<td>7 months !!!</td></tr>\n",
       "<tr><td>H2O_cluster_name:</td>\n",
       "<td>H2O_from_python_ALEX_zllq8q</td></tr>\n",
       "<tr><td>H2O_cluster_total_nodes:</td>\n",
       "<td>1</td></tr>\n",
       "<tr><td>H2O_cluster_free_memory:</td>\n",
       "<td>1.752 Gb</td></tr>\n",
       "<tr><td>H2O_cluster_total_cores:</td>\n",
       "<td>8</td></tr>\n",
       "<tr><td>H2O_cluster_allowed_cores:</td>\n",
       "<td>8</td></tr>\n",
       "<tr><td>H2O_cluster_status:</td>\n",
       "<td>locked, healthy</td></tr>\n",
       "<tr><td>H2O_connection_url:</td>\n",
       "<td>http://127.0.0.1:54321</td></tr>\n",
       "<tr><td>H2O_connection_proxy:</td>\n",
       "<td>{\"http\": null, \"https\": null}</td></tr>\n",
       "<tr><td>H2O_internal_security:</td>\n",
       "<td>False</td></tr>\n",
       "<tr><td>H2O_API_Extensions:</td>\n",
       "<td>Amazon S3, Algos, AutoML, Core V3, TargetEncoder, Core V4</td></tr>\n",
       "<tr><td>Python_version:</td>\n",
       "<td>3.6.10 final</td></tr></table></div>"
      ],
      "text/plain": [
       "--------------------------  ---------------------------------------------------------\n",
       "H2O_cluster_uptime:         12 secs\n",
       "H2O_cluster_timezone:       America/Los_Angeles\n",
       "H2O_data_parsing_timezone:  UTC\n",
       "H2O_cluster_version:        3.30.0.4\n",
       "H2O_cluster_version_age:    7 months !!!\n",
       "H2O_cluster_name:           H2O_from_python_ALEX_zllq8q\n",
       "H2O_cluster_total_nodes:    1\n",
       "H2O_cluster_free_memory:    1.752 Gb\n",
       "H2O_cluster_total_cores:    8\n",
       "H2O_cluster_allowed_cores:  8\n",
       "H2O_cluster_status:         locked, healthy\n",
       "H2O_connection_url:         http://127.0.0.1:54321\n",
       "H2O_connection_proxy:       {\"http\": null, \"https\": null}\n",
       "H2O_internal_security:      False\n",
       "H2O_API_Extensions:         Amazon S3, Algos, AutoML, Core V3, TargetEncoder, Core V4\n",
       "Python_version:             3.6.10 final\n",
       "--------------------------  ---------------------------------------------------------"
      ]
     },
     "metadata": {},
     "output_type": "display_data"
    }
   ],
   "source": [
    "# Initialize H2O cluster\n",
    "h2o.init()\n",
    "h2o.remove_all()"
   ]
  },
  {
   "cell_type": "code",
   "execution_count": 73,
   "metadata": {},
   "outputs": [
    {
     "name": "stdout",
     "output_type": "stream",
     "text": [
      "Parse progress: |█████████████████████████████████████████████████████████| 100%\n"
     ]
    },
    {
     "data": {
      "text/html": [
       "<table>\n",
       "<thead>\n",
       "<tr><th>       </th><th>user_id           </th><th>signup_time        </th><th>purchase_time      </th><th>purchase_value    </th><th>device_id    </th><th>source  </th><th>browser  </th><th>sex  </th><th>age              </th><th>ip_address        </th><th>class  </th><th>country      </th><th>time_diff         </th><th>users_for_same_device  </th><th>users_for_same_ip  </th><th>signup_day  </th><th>signup_week      </th><th>purchase_day  </th><th>purchase_week     </th></tr>\n",
       "</thead>\n",
       "<tbody>\n",
       "<tr><td>type   </td><td>int               </td><td>time               </td><td>time               </td><td>int               </td><td>string       </td><td>enum    </td><td>enum     </td><td>enum </td><td>int              </td><td>real              </td><td>enum   </td><td>enum         </td><td>int               </td><td>int                    </td><td>int                </td><td>enum        </td><td>int              </td><td>enum          </td><td>int               </td></tr>\n",
       "<tr><td>mins   </td><td>2.0               </td><td>1420070442000.0    </td><td>1420070444000.0    </td><td>9.0               </td><td>NaN          </td><td>        </td><td>         </td><td>     </td><td>18.0             </td><td>52093.4968949854  </td><td>       </td><td>             </td><td>1.0               </td><td>1.0                    </td><td>1.0                </td><td>            </td><td>1.0              </td><td>              </td><td>1.0               </td></tr>\n",
       "<tr><td>mean   </td><td>200171.04096961228</td><td>1429491369511.3245 </td><td>1434423398759.9531 </td><td>36.93537243898569 </td><td>NaN          </td><td>        </td><td>         </td><td>     </td><td>33.14070358409643</td><td>2152145330.958829 </td><td>       </td><td>             </td><td>40942.58442744463 </td><td>1.6843665625496342     </td><td>1.6027185134205082 </td><td>            </td><td>16.5017404309386 </td><td>              </td><td>24.65857112605216 </td></tr>\n",
       "<tr><td>maxs   </td><td>400000.0          </td><td>1439872829000.0    </td><td>1450234565000.0    </td><td>154.0             </td><td>NaN          </td><td>        </td><td>         </td><td>     </td><td>76.0             </td><td>4294850499.67884  </td><td>       </td><td>             </td><td>86399.0           </td><td>20.0                   </td><td>20.0               </td><td>            </td><td>34.0             </td><td>              </td><td>51.0              </td></tr>\n",
       "<tr><td>sigma  </td><td>115369.2850241342 </td><td>5930618906.324853  </td><td>7042565812.476391  </td><td>18.322762148662147</td><td>NaN          </td><td>        </td><td>         </td><td>     </td><td>8.617733490961461</td><td>1248497030.1004274</td><td>       </td><td>             </td><td>26049.661902118325</td><td>2.616953602804173      </td><td>2.5962395273758427 </td><td>            </td><td>9.814287461798866</td><td>              </td><td>11.651556782719476</td></tr>\n",
       "<tr><td>zeros  </td><td>0                 </td><td>0                  </td><td>0                  </td><td>0                 </td><td>0            </td><td>        </td><td>         </td><td>     </td><td>0                </td><td>0                 </td><td>       </td><td>             </td><td>0                 </td><td>0                      </td><td>0                  </td><td>            </td><td>0                </td><td>              </td><td>0                 </td></tr>\n",
       "<tr><td>missing</td><td>0                 </td><td>0                  </td><td>0                  </td><td>0                 </td><td>0            </td><td>0       </td><td>0        </td><td>0    </td><td>0                </td><td>0                 </td><td>0      </td><td>0            </td><td>0                 </td><td>0                      </td><td>0                  </td><td>0           </td><td>0                </td><td>0             </td><td>0                 </td></tr>\n",
       "<tr><td>0      </td><td>22058.0           </td><td>2015-02-24 22:55:49</td><td>2015-04-18 02:47:11</td><td>34.0              </td><td>QVPSPJUOCKZAR</td><td>SEO     </td><td>Chrome   </td><td>M    </td><td>39.0             </td><td>732758368.79972   </td><td>0      </td><td>Japan        </td><td>13882.0           </td><td>1.0                    </td><td>1.0                </td><td>1           </td><td>9.0              </td><td>5             </td><td>16.0              </td></tr>\n",
       "<tr><td>1      </td><td>333320.0          </td><td>2015-06-07 20:39:50</td><td>2015-06-08 01:38:54</td><td>16.0              </td><td>EOGFQPIZPYXFZ</td><td>Ads     </td><td>Chrome   </td><td>F    </td><td>53.0             </td><td>350311387.865908  </td><td>0      </td><td>United States</td><td>17944.0           </td><td>1.0                    </td><td>1.0                </td><td>6           </td><td>23.0             </td><td>0             </td><td>24.0              </td></tr>\n",
       "<tr><td>2      </td><td>1359.0            </td><td>2015-01-01 18:52:44</td><td>2015-01-01 18:52:45</td><td>15.0              </td><td>YSSKYOSJHPPLJ</td><td>SEO     </td><td>Opera    </td><td>M    </td><td>53.0             </td><td>2621473820.11095  </td><td>1      </td><td>United States</td><td>1.0               </td><td>12.0                   </td><td>12.0               </td><td>3           </td><td>1.0              </td><td>3             </td><td>1.0               </td></tr>\n",
       "<tr><td>3      </td><td>150084.0          </td><td>2015-04-28 21:13:25</td><td>2015-05-04 13:54:50</td><td>44.0              </td><td>ATGTXKYKUDUQN</td><td>SEO     </td><td>Safari   </td><td>M    </td><td>41.0             </td><td>3840542443.91396  </td><td>0      </td><td>NA           </td><td>60085.0           </td><td>1.0                    </td><td>1.0                </td><td>1           </td><td>18.0             </td><td>0             </td><td>19.0              </td></tr>\n",
       "<tr><td>4      </td><td>221365.0          </td><td>2015-07-21 07:09:52</td><td>2015-09-09 18:40:53</td><td>39.0              </td><td>NAUITBZFJKHWW</td><td>Ads     </td><td>Safari   </td><td>M    </td><td>45.0             </td><td>415583117.452712  </td><td>0      </td><td>United States</td><td>41461.0           </td><td>1.0                    </td><td>1.0                </td><td>1           </td><td>30.0             </td><td>2             </td><td>37.0              </td></tr>\n",
       "<tr><td>5      </td><td>159135.0          </td><td>2015-05-21 06:03:03</td><td>2015-07-09 08:05:14</td><td>42.0              </td><td>ALEYXFXINSXLZ</td><td>Ads     </td><td>Chrome   </td><td>M    </td><td>18.0             </td><td>2809315199.92675  </td><td>0      </td><td>Canada       </td><td>7331.0            </td><td>1.0                    </td><td>1.0                </td><td>3           </td><td>21.0             </td><td>3             </td><td>28.0              </td></tr>\n",
       "<tr><td>6      </td><td>50116.0           </td><td>2015-08-01 22:40:52</td><td>2015-08-27 03:37:57</td><td>11.0              </td><td>IWKVZHJOCLPUR</td><td>Ads     </td><td>Chrome   </td><td>F    </td><td>19.0             </td><td>3987484328.51882  </td><td>0      </td><td>NA           </td><td>17825.0           </td><td>1.0                    </td><td>1.0                </td><td>5           </td><td>31.0             </td><td>3             </td><td>35.0              </td></tr>\n",
       "<tr><td>7      </td><td>360585.0          </td><td>2015-04-06 07:35:45</td><td>2015-05-25 17:21:14</td><td>27.0              </td><td>HPUCUYLMJBYFW</td><td>Ads     </td><td>Opera    </td><td>M    </td><td>34.0             </td><td>1692458727.64945  </td><td>0      </td><td>United States</td><td>35129.0           </td><td>1.0                    </td><td>1.0                </td><td>0           </td><td>15.0             </td><td>0             </td><td>22.0              </td></tr>\n",
       "<tr><td>8      </td><td>159045.0          </td><td>2015-04-21 23:38:34</td><td>2015-06-02 14:01:54</td><td>30.0              </td><td>ILXYDOZIHOOHT</td><td>SEO     </td><td>IE       </td><td>F    </td><td>43.0             </td><td>3719094257.18731  </td><td>0      </td><td>China        </td><td>51800.0           </td><td>1.0                    </td><td>1.0                </td><td>1           </td><td>17.0             </td><td>1             </td><td>23.0              </td></tr>\n",
       "<tr><td>9      </td><td>182338.0          </td><td>2015-01-25 17:49:49</td><td>2015-03-23 23:05:42</td><td>62.0              </td><td>NRFFPPHZYFUVC</td><td>Ads     </td><td>IE       </td><td>M    </td><td>31.0             </td><td>341674739.579911  </td><td>0      </td><td>United States</td><td>18953.0           </td><td>1.0                    </td><td>1.0                </td><td>6           </td><td>4.0              </td><td>0             </td><td>13.0              </td></tr>\n",
       "</tbody>\n",
       "</table>"
      ]
     },
     "metadata": {},
     "output_type": "display_data"
    }
   ],
   "source": [
    "# Transform to H2O Frame, and make sure the target variable is categorical\n",
    "h2o_df = H2OFrame(data)\n",
    "\n",
    "for name in ['signup_day', 'purchase_day', 'source', 'browser', 'sex', 'country', 'class']:\n",
    "    h2o_df[name] = h2o_df[name].asfactor()\n",
    "\n",
    "h2o_df.summary()"
   ]
  },
  {
   "cell_type": "code",
   "execution_count": 74,
   "metadata": {},
   "outputs": [],
   "source": [
    "# Split into 75% training and 25% test dataset\n",
    "strat_split=h2o_df['class'].stratified_split(test_frac=0.25,seed=42)\n",
    "\n",
    "train=h2o_df[strat_split=='train']\n",
    "test=h2o_df[strat_split=='test']\n",
    "\n",
    "# Define features and target\n",
    "feature=['signup_day', 'signup_week', 'purchase_day', 'purchase_week', 'purchase_value', 'source', \n",
    "           'browser', 'sex', 'age', 'country', 'time_diff', 'users_for_same_device', 'users_for_same_ip']\n",
    "target='class'"
   ]
  },
  {
   "cell_type": "code",
   "execution_count": 75,
   "metadata": {},
   "outputs": [
    {
     "name": "stdout",
     "output_type": "stream",
     "text": [
      "drf Model Build progress: |███████████████████████████████████████████████| 100%\n"
     ]
    }
   ],
   "source": [
    "model=H2ORandomForestEstimator(balance_classes=True,ntrees=100,max_depth=20,mtries=-1,seed=42,\n",
    "                              stopping_rounds=5,stopping_metric='auc',score_each_iteration=True)\n",
    "model.train(x=feature,y=target,training_frame=train,validation_frame=test)"
   ]
  },
  {
   "cell_type": "code",
   "execution_count": null,
   "metadata": {},
   "outputs": [],
   "source": [
    "# Not use stop metric and validation\n",
    "# model=H2ORandomForestEstimator(balance_classes=True,ntrees=100,max_depth=20,mtries=-1,seed=42,\n",
    "#                              score_each_iteration=True)\n",
    "# model.train(x=feature,y=target,training_frame=train)"
   ]
  },
  {
   "cell_type": "code",
   "execution_count": 76,
   "metadata": {},
   "outputs": [],
   "source": [
    "# Can use the codes below for a better visualization\n",
    "# model.varimp_plot()"
   ]
  },
  {
   "cell_type": "code",
   "execution_count": 77,
   "metadata": {
    "scrolled": true
   },
   "outputs": [
    {
     "name": "stdout",
     "output_type": "stream",
     "text": [
      "                 variable  relative_importance  scaled_importance  percentage\n",
      "0   users_for_same_device        181915.312500           1.000000    0.303431\n",
      "1       users_for_same_ip         99221.484375           0.545427    0.165499\n",
      "2               time_diff         71643.164062           0.393827    0.119499\n",
      "3             signup_week         59583.714844           0.327535    0.099384\n",
      "4           purchase_week         58530.761719           0.321747    0.097628\n",
      "5                 country         42594.359375           0.234144    0.071047\n",
      "6          purchase_value         18511.308594           0.101758    0.030876\n",
      "7                     age         18207.763672           0.100089    0.030370\n",
      "8              signup_day         17195.029297           0.094522    0.028681\n",
      "9            purchase_day         13043.959961           0.071703    0.021757\n",
      "10                browser         10347.096680           0.056879    0.017259\n",
      "11                 source          5324.669922           0.029270    0.008881\n",
      "12                    sex          3408.920410           0.018739    0.005686\n"
     ]
    }
   ],
   "source": [
    "# Feature importance\n",
    "importance = model.varimp(use_pandas=True)\n",
    "print(importance)"
   ]
  },
  {
   "cell_type": "code",
   "execution_count": 78,
   "metadata": {},
   "outputs": [
    {
     "data": {
      "image/png": "[encoded data removed]",
      "text/plain": [
       "<Figure size 720x576 with 1 Axes>"
      ]
     },
     "metadata": {
      "needs_background": "light"
     },
     "output_type": "display_data"
    }
   ],
   "source": [
    "fig, ax = plt.subplots(figsize=(10, 8))\n",
    "sns.barplot(x='scaled_importance', y='variable', data=importance)\n",
    "plt.title('Variable Importance')\n",
    "plt.show()"
   ]
  },
  {
   "cell_type": "code",
   "execution_count": 79,
   "metadata": {},
   "outputs": [
    {
     "name": "stdout",
     "output_type": "stream",
     "text": [
      "[0 0 1 ... 0 0 0]\n",
      "drf prediction progress: |████████████████████████████████████████████████| 100%\n",
      "drf prediction progress: |████████████████████████████████████████████████| 100%\n"
     ]
    }
   ],
   "source": [
    "# Make predictions\n",
    "train_true=train.as_data_frame()['class'].values # remove index, only keep values as array \n",
    "print(train_true)\n",
    "test_true=test.as_data_frame()['class'].values\n",
    "train_pred=model.predict(train).as_data_frame()['p1'].values # have 3 columns: predict,p0,p1\n",
    "test_pred=model.predict(test).as_data_frame()['p1'].values # have 3 columns: predict,p0,p1\n",
    "\n",
    "train_fpr,train_tpr,_=roc_curve(train_true,train_pred)\n",
    "test_fpr,test_tpr,_=roc_curve(test_true,test_pred)\n",
    "train_auc=np.round(auc(train_fpr,train_tpr),3)\n",
    "test_auc=np.round(auc(test_fpr,test_tpr),3)"
   ]
  },
  {
   "cell_type": "code",
   "execution_count": 80,
   "metadata": {},
   "outputs": [
    {
     "name": "stdout",
     "output_type": "stream",
     "text": [
      "              precision    recall  f1-score   support\n",
      "\n",
      "           0       0.95      1.00      0.98     34240\n",
      "           1       1.00      0.53      0.70      3538\n",
      "\n",
      "    accuracy                           0.96     37778\n",
      "   macro avg       0.98      0.77      0.84     37778\n",
      "weighted avg       0.96      0.96      0.95     37778\n",
      "\n"
     ]
    }
   ],
   "source": [
    "print(classification_report(y_true=test_true, y_pred=(test_pred > 0.5).astype(int)))"
   ]
  },
  {
   "cell_type": "code",
   "execution_count": 81,
   "metadata": {},
   "outputs": [
    {
     "data": {
      "image/png": "[encoded data removed]",
      "text/plain": [
       "<Figure size 576x432 with 1 Axes>"
      ]
     },
     "metadata": {
      "needs_background": "light"
     },
     "output_type": "display_data"
    }
   ],
   "source": [
    "train_fpr = np.insert(train_fpr, 0, 0)\n",
    "train_tpr = np.insert(train_tpr, 0, 0)\n",
    "test_fpr = np.insert(test_fpr, 0, 0)\n",
    "test_tpr = np.insert(test_tpr, 0, 0)\n",
    "\n",
    "fig,ax=plt.subplots(figsize=(8,6))\n",
    "ax.plot(train_fpr,train_tpr,label='Trian AUC: '+str(train_auc))\n",
    "ax.plot(test_fpr,test_tpr,label='Test AUC: '+str(test_auc))\n",
    "ax.plot(train_fpr, train_fpr, 'k--', label='Chance Curve')\n",
    "ax.set_xlabel('False Positive Rate',fontsize=12)\n",
    "ax.set_ylabel('True Positive Rate',fontsize=12)\n",
    "ax.grid(True)\n",
    "ax.legend(fontsize=12)\n",
    "plt.show()"
   ]
  },
  {
   "cell_type": "code",
   "execution_count": null,
   "metadata": {},
   "outputs": [],
   "source": [
    "# Not contain Chance curve\n",
    "#fig,ax=plt.subplots(figsize=(8,6))\n",
    "#ax.plot(train_fpr,train_tpr,label='Trian AUC: '+str(train_auc))\n",
    "#ax.plot(test_fpr,test_tpr,label='Test AUC: '+str(test_auc))\n",
    "#ax.set_xlabel('False Positive Rate',fontsize=12)\n",
    "#ax.set_ylabel('True Positive Rate',fontsize=12)\n",
    "#ax.legend(fontsize=12)\n",
    "#plt.show()"
   ]
  },
  {
   "cell_type": "markdown",
   "metadata": {},
   "source": [
    "Based on the ROC, if we care about minimizing false positive, we would choose a cut-off that would give us true positive rate of ~0.5 and false positive rate almost zero (this was essentially the random forest output). However, if we care about maximizing true positive, we will have to decrease the cut-off. This way we will classify more events as “1”: some will be true ones (so true positive goes up) and many, unfortunately, will be false ones (so false positive will also go up)."
   ]
  },
  {
   "cell_type": "code",
   "execution_count": 82,
   "metadata": {},
   "outputs": [
    {
     "name": "stdout",
     "output_type": "stream",
     "text": [
      "PartialDependencePlot progress: |█████████████████████████████████████████| 100%\n"
     ]
    },
    {
     "name": "stderr",
     "output_type": "stream",
     "text": [
      "D:\\Anaconda3\\envs\\py36\\lib\\site-packages\\h2o\\model\\model_base.py:1359: MatplotlibDeprecationWarning: The parameter where must have the same size as x in fill_between(). This will become an error in future versions of Matplotlib.\n",
      "  axs.fill_between(x, lower, upper, where=lower < upper, alpha=0.1, interpolate=False)\n"
     ]
    },
    {
     "data": {
      "image/png": "[encoded data removed]",
      "text/plain": [
       "<Figure size 1296x1440 with 5 Axes>"
      ]
     },
     "metadata": {
      "needs_background": "light"
     },
     "output_type": "display_data"
    }
   ],
   "source": [
    "cols = ['users_for_same_device', 'time_diff', 'purchase_week', 'country', 'users_for_same_ip']\n",
    "_ = model.partial_plot(train, cols=cols,nbins=200, figsize=(18, 20))\n",
    "# _ = model.partial_plot(train, cols=cols,nbins=200, figsize=(8, 15))"
   ]
  },
  {
   "cell_type": "code",
   "execution_count": 67,
   "metadata": {},
   "outputs": [
    {
     "name": "stdout",
     "output_type": "stream",
     "text": [
      "H2O session _sid_a2c8 closed.\n"
     ]
    }
   ],
   "source": [
    "# Shutdown h2o instance\n",
    "h2o.cluster().shutdown()"
   ]
  },
  {
   "cell_type": "markdown",
   "metadata": {},
   "source": [
    "Regarding “how to use this from a product perspective”: you now have a model that assigns to each user a probability of committing a fraud. You want to think about creating different experiences based on that. For instance:\n",
    "\n",
    "1. If predicted fraud probability < X, the user has the normal experience (the high majority should fall here)\n",
    "2. If X <= predicted fraud probability < Z (so the user is at risk, but not too much), you can create an additional verification step, like verify your phone number via a code sent by SMS or log in via Facebook.\n",
    "3. If predicted fraud probability >= Z (so here is really likely the user is trying to commit a fraud), you can tell the user his session has been put on hold, send this user info to someone who reviews it manually and either blocks the user or decides it is not a fraud so the session is resumed.\n",
    "\n",
    "This is just an example and there are many different ways to build products around some fraud score. However, it is important because it highlights that a ML model is often really useful when it is combined with a product which is able to take advantage of its strengths and minimize its possible drawbacks (like false positives)."
   ]
  },
  {
   "cell_type": "markdown",
   "metadata": {},
   "source": [
    "## Additional Analysis - Logistic Regression"
   ]
  },
  {
   "cell_type": "code",
   "execution_count": 95,
   "metadata": {},
   "outputs": [],
   "source": [
    "from sklearn.linear_model import LogisticRegressionCV\n",
    "from sklearn.model_selection  import train_test_split,GridSearchCV\n",
    "from sklearn.metrics import classification_report,confusion_matrix"
   ]
  },
  {
   "cell_type": "code",
   "execution_count": 96,
   "metadata": {},
   "outputs": [
    {
     "data": {
      "text/plain": [
       "(0.09390719409471084, 0.09312215576002067)"
      ]
     },
     "execution_count": 96,
     "metadata": {},
     "output_type": "execute_result"
    }
   ],
   "source": [
    "feature=['signup_day', 'signup_week', 'purchase_day', 'purchase_week', 'purchase_value', 'source', \n",
    "           'browser', 'sex', 'age', 'country', 'time_diff', 'users_for_same_device', 'users_for_same_ip']\n",
    "target='class'\n",
    "x=data[feature]\n",
    "x=pd.get_dummies(x)# OHE those categorical features\n",
    "y=data[target]\n",
    "xtrain,xtest,ytrain,ytest=train_test_split(x,y,test_size=0.333)\n",
    "ytrain.mean(),ytest.mean()"
   ]
  },
  {
   "cell_type": "code",
   "execution_count": 104,
   "metadata": {},
   "outputs": [
    {
     "name": "stderr",
     "output_type": "stream",
     "text": [
      "[Parallel(n_jobs=-1)]: Using backend LokyBackend with 8 concurrent workers.\n",
      "[Parallel(n_jobs=-1)]: Done   2 out of   5 | elapsed:   29.0s remaining:   43.5s\n",
      "[Parallel(n_jobs=-1)]: Done   5 out of   5 | elapsed:   33.4s finished\n"
     ]
    },
    {
     "data": {
      "text/plain": [
       "LogisticRegressionCV(Cs=array([1.e-03, 1.e-02, 1.e-01, 1.e+00, 1.e+01, 1.e+02, 1.e+03]),\n",
       "                     max_iter=2000, n_jobs=-1, scoring='roc_auc', verbose=1)"
      ]
     },
     "execution_count": 104,
     "metadata": {},
     "output_type": "execute_result"
    }
   ],
   "source": [
    "lrcv=LogisticRegressionCV(Cs = np.logspace(-3,3,7),\n",
    "                            dual=False,\n",
    "                            scoring='roc_auc',\n",
    "                            max_iter=2000,\n",
    "                            n_jobs=-1,\n",
    "                            verbose=1)\n",
    "lrcv.fit(xtrain,ytrain)"
   ]
  },
  {
   "cell_type": "code",
   "execution_count": 105,
   "metadata": {},
   "outputs": [
    {
     "data": {
      "text/plain": [
       "array([10.])"
      ]
     },
     "execution_count": 105,
     "metadata": {},
     "output_type": "execute_result"
    }
   ],
   "source": [
    "lrcv.C_"
   ]
  },
  {
   "cell_type": "code",
   "execution_count": 106,
   "metadata": {},
   "outputs": [
    {
     "data": {
      "text/plain": [
       "{1: array([[0.77136973, 0.77137016, 0.77136967, 0.77137016, 0.77136967,\n",
       "         0.77137016, 0.77136967],\n",
       "        [0.77940805, 0.77940788, 0.77940773, 0.7794079 , 0.77940845,\n",
       "         0.77940799, 0.77940834],\n",
       "        [0.79485077, 0.79485074, 0.79485083, 0.79485074, 0.79485083,\n",
       "         0.79485074, 0.79485077],\n",
       "        [0.76771276, 0.7677123 , 0.76771294, 0.76771256, 0.76771294,\n",
       "         0.7677125 , 0.76771294],\n",
       "        [0.78895911, 0.78895902, 0.78895896, 0.78895911, 0.78895896,\n",
       "         0.78895911, 0.78895896]])}"
      ]
     },
     "execution_count": 106,
     "metadata": {},
     "output_type": "execute_result"
    }
   ],
   "source": [
    "lrcv.scores_"
   ]
  },
  {
   "cell_type": "code",
   "execution_count": 107,
   "metadata": {},
   "outputs": [
    {
     "data": {
      "text/plain": [
       "0.7810315978613573"
      ]
     },
     "execution_count": 107,
     "metadata": {},
     "output_type": "execute_result"
    }
   ],
   "source": [
    "lrcv.score(xtrain,ytrain)"
   ]
  },
  {
   "cell_type": "code",
   "execution_count": 108,
   "metadata": {},
   "outputs": [
    {
     "data": {
      "text/plain": [
       "0.7814055149413636"
      ]
     },
     "execution_count": 108,
     "metadata": {},
     "output_type": "execute_result"
    }
   ],
   "source": [
    "lrcv.score(xtest,ytest)"
   ]
  },
  {
   "cell_type": "code",
   "execution_count": 109,
   "metadata": {},
   "outputs": [
    {
     "name": "stdout",
     "output_type": "stream",
     "text": [
      "              precision    recall  f1-score   support\n",
      "\n",
      "           0       0.95      1.00      0.97     45635\n",
      "           1       0.93      0.54      0.68      4686\n",
      "\n",
      "    accuracy                           0.95     50321\n",
      "   macro avg       0.94      0.77      0.83     50321\n",
      "weighted avg       0.95      0.95      0.95     50321\n",
      "\n"
     ]
    }
   ],
   "source": [
    "# Classification report\n",
    "ytest_predict = lrcv.predict(xtest)\n",
    "print(classification_report(y_true=ytest,y_pred=ytest_predict))"
   ]
  },
  {
   "cell_type": "code",
   "execution_count": 112,
   "metadata": {},
   "outputs": [
    {
     "data": {
      "text/html": [
       "<div>\n",
       "<style scoped>\n",
       "    .dataframe tbody tr th:only-of-type {\n",
       "        vertical-align: middle;\n",
       "    }\n",
       "\n",
       "    .dataframe tbody tr th {\n",
       "        vertical-align: top;\n",
       "    }\n",
       "\n",
       "    .dataframe thead th {\n",
       "        text-align: right;\n",
       "    }\n",
       "</style>\n",
       "<table border=\"1\" class=\"dataframe\">\n",
       "  <thead>\n",
       "    <tr style=\"text-align: right;\">\n",
       "      <th></th>\n",
       "      <th>Variable Name</th>\n",
       "      <th>Coef</th>\n",
       "      <th>importances</th>\n",
       "    </tr>\n",
       "  </thead>\n",
       "  <tbody>\n",
       "    <tr>\n",
       "      <th>0</th>\n",
       "      <td>users_for_same_device</td>\n",
       "      <td>0.223129</td>\n",
       "      <td>0.223129</td>\n",
       "    </tr>\n",
       "    <tr>\n",
       "      <th>1</th>\n",
       "      <td>users_for_same_ip</td>\n",
       "      <td>0.185698</td>\n",
       "      <td>0.185698</td>\n",
       "    </tr>\n",
       "    <tr>\n",
       "      <th>2</th>\n",
       "      <td>purchase_week</td>\n",
       "      <td>-0.063927</td>\n",
       "      <td>0.063927</td>\n",
       "    </tr>\n",
       "    <tr>\n",
       "      <th>3</th>\n",
       "      <td>age</td>\n",
       "      <td>-0.042028</td>\n",
       "      <td>0.042028</td>\n",
       "    </tr>\n",
       "    <tr>\n",
       "      <th>4</th>\n",
       "      <td>signup_week</td>\n",
       "      <td>0.041431</td>\n",
       "      <td>0.041431</td>\n",
       "    </tr>\n",
       "    <tr>\n",
       "      <th>5</th>\n",
       "      <td>signup_day</td>\n",
       "      <td>-0.030834</td>\n",
       "      <td>0.030834</td>\n",
       "    </tr>\n",
       "    <tr>\n",
       "      <th>6</th>\n",
       "      <td>purchase_day</td>\n",
       "      <td>-0.029154</td>\n",
       "      <td>0.029154</td>\n",
       "    </tr>\n",
       "    <tr>\n",
       "      <th>7</th>\n",
       "      <td>purchase_value</td>\n",
       "      <td>-0.009844</td>\n",
       "      <td>0.009844</td>\n",
       "    </tr>\n",
       "    <tr>\n",
       "      <th>8</th>\n",
       "      <td>source_SEO</td>\n",
       "      <td>-0.008049</td>\n",
       "      <td>0.008049</td>\n",
       "    </tr>\n",
       "    <tr>\n",
       "      <th>9</th>\n",
       "      <td>source_Ads</td>\n",
       "      <td>-0.006544</td>\n",
       "      <td>0.006544</td>\n",
       "    </tr>\n",
       "  </tbody>\n",
       "</table>\n",
       "</div>"
      ],
      "text/plain": [
       "           Variable Name      Coef  importances\n",
       "0  users_for_same_device  0.223129     0.223129\n",
       "1      users_for_same_ip  0.185698     0.185698\n",
       "2          purchase_week -0.063927     0.063927\n",
       "3                    age -0.042028     0.042028\n",
       "4            signup_week  0.041431     0.041431\n",
       "5             signup_day -0.030834     0.030834\n",
       "6           purchase_day -0.029154     0.029154\n",
       "7         purchase_value -0.009844     0.009844\n",
       "8             source_SEO -0.008049     0.008049\n",
       "9             source_Ads -0.006544     0.006544"
      ]
     },
     "execution_count": 112,
     "metadata": {},
     "output_type": "execute_result"
    }
   ],
   "source": [
    "feat_importances=pd.DataFrame({\"Variable Name\":xtrain.columns,\"Coef\":lrcv.coef_[0]})\n",
    "feat_importances['importances'] = np.abs( feat_importances['Coef'] )\n",
    "feat_importances.sort_values(by=\"importances\",inplace=True,ascending=False)\n",
    "feat_importances.reset_index(drop=True, inplace=True) # reorder the index with simple sequential numbers\n",
    "feat_importances.head(10)"
   ]
  },
  {
   "cell_type": "markdown",
   "metadata": {},
   "source": [
    "## Additional Analysis - Decision Tree"
   ]
  },
  {
   "cell_type": "code",
   "execution_count": 20,
   "metadata": {},
   "outputs": [],
   "source": [
    "import graphviz\n",
    "from sklearn import tree\n",
    "from sklearn.tree import DecisionTreeClassifier\n",
    "from sklearn.preprocessing import LabelEncoder"
   ]
  },
  {
   "cell_type": "code",
   "execution_count": 33,
   "metadata": {},
   "outputs": [
    {
     "data": {
      "text/html": [
       "<div>\n",
       "<style scoped>\n",
       "    .dataframe tbody tr th:only-of-type {\n",
       "        vertical-align: middle;\n",
       "    }\n",
       "\n",
       "    .dataframe tbody tr th {\n",
       "        vertical-align: top;\n",
       "    }\n",
       "\n",
       "    .dataframe thead th {\n",
       "        text-align: right;\n",
       "    }\n",
       "</style>\n",
       "<table border=\"1\" class=\"dataframe\">\n",
       "  <thead>\n",
       "    <tr style=\"text-align: right;\">\n",
       "      <th></th>\n",
       "      <th>user_id</th>\n",
       "      <th>signup_time</th>\n",
       "      <th>purchase_time</th>\n",
       "      <th>purchase_value</th>\n",
       "      <th>device_id</th>\n",
       "      <th>source</th>\n",
       "      <th>browser</th>\n",
       "      <th>sex</th>\n",
       "      <th>age</th>\n",
       "      <th>ip_address</th>\n",
       "      <th>class</th>\n",
       "      <th>country</th>\n",
       "      <th>time_diff</th>\n",
       "      <th>users_for_same_device</th>\n",
       "      <th>users_for_same_ip</th>\n",
       "      <th>signup_day</th>\n",
       "      <th>signup_week</th>\n",
       "      <th>purchase_day</th>\n",
       "      <th>purchase_week</th>\n",
       "    </tr>\n",
       "  </thead>\n",
       "  <tbody>\n",
       "    <tr>\n",
       "      <th>0</th>\n",
       "      <td>22058</td>\n",
       "      <td>2015-02-24 22:55:49</td>\n",
       "      <td>2015-04-18 02:47:11</td>\n",
       "      <td>34</td>\n",
       "      <td>QVPSPJUOCKZAR</td>\n",
       "      <td>SEO</td>\n",
       "      <td>Chrome</td>\n",
       "      <td>M</td>\n",
       "      <td>39</td>\n",
       "      <td>7.327584e+08</td>\n",
       "      <td>0</td>\n",
       "      <td>Japan</td>\n",
       "      <td>13882</td>\n",
       "      <td>1</td>\n",
       "      <td>1</td>\n",
       "      <td>1</td>\n",
       "      <td>9</td>\n",
       "      <td>5</td>\n",
       "      <td>16</td>\n",
       "    </tr>\n",
       "    <tr>\n",
       "      <th>1</th>\n",
       "      <td>333320</td>\n",
       "      <td>2015-06-07 20:39:50</td>\n",
       "      <td>2015-06-08 01:38:54</td>\n",
       "      <td>16</td>\n",
       "      <td>EOGFQPIZPYXFZ</td>\n",
       "      <td>Ads</td>\n",
       "      <td>Chrome</td>\n",
       "      <td>F</td>\n",
       "      <td>53</td>\n",
       "      <td>3.503114e+08</td>\n",
       "      <td>0</td>\n",
       "      <td>United States</td>\n",
       "      <td>17944</td>\n",
       "      <td>1</td>\n",
       "      <td>1</td>\n",
       "      <td>6</td>\n",
       "      <td>23</td>\n",
       "      <td>0</td>\n",
       "      <td>24</td>\n",
       "    </tr>\n",
       "    <tr>\n",
       "      <th>2</th>\n",
       "      <td>1359</td>\n",
       "      <td>2015-01-01 18:52:44</td>\n",
       "      <td>2015-01-01 18:52:45</td>\n",
       "      <td>15</td>\n",
       "      <td>YSSKYOSJHPPLJ</td>\n",
       "      <td>SEO</td>\n",
       "      <td>Opera</td>\n",
       "      <td>M</td>\n",
       "      <td>53</td>\n",
       "      <td>2.621474e+09</td>\n",
       "      <td>1</td>\n",
       "      <td>United States</td>\n",
       "      <td>1</td>\n",
       "      <td>12</td>\n",
       "      <td>12</td>\n",
       "      <td>3</td>\n",
       "      <td>1</td>\n",
       "      <td>3</td>\n",
       "      <td>1</td>\n",
       "    </tr>\n",
       "    <tr>\n",
       "      <th>3</th>\n",
       "      <td>150084</td>\n",
       "      <td>2015-04-28 21:13:25</td>\n",
       "      <td>2015-05-04 13:54:50</td>\n",
       "      <td>44</td>\n",
       "      <td>ATGTXKYKUDUQN</td>\n",
       "      <td>SEO</td>\n",
       "      <td>Safari</td>\n",
       "      <td>M</td>\n",
       "      <td>41</td>\n",
       "      <td>3.840542e+09</td>\n",
       "      <td>0</td>\n",
       "      <td>NA</td>\n",
       "      <td>60085</td>\n",
       "      <td>1</td>\n",
       "      <td>1</td>\n",
       "      <td>1</td>\n",
       "      <td>18</td>\n",
       "      <td>0</td>\n",
       "      <td>19</td>\n",
       "    </tr>\n",
       "    <tr>\n",
       "      <th>4</th>\n",
       "      <td>221365</td>\n",
       "      <td>2015-07-21 07:09:52</td>\n",
       "      <td>2015-09-09 18:40:53</td>\n",
       "      <td>39</td>\n",
       "      <td>NAUITBZFJKHWW</td>\n",
       "      <td>Ads</td>\n",
       "      <td>Safari</td>\n",
       "      <td>M</td>\n",
       "      <td>45</td>\n",
       "      <td>4.155831e+08</td>\n",
       "      <td>0</td>\n",
       "      <td>United States</td>\n",
       "      <td>41461</td>\n",
       "      <td>1</td>\n",
       "      <td>1</td>\n",
       "      <td>1</td>\n",
       "      <td>30</td>\n",
       "      <td>2</td>\n",
       "      <td>37</td>\n",
       "    </tr>\n",
       "  </tbody>\n",
       "</table>\n",
       "</div>"
      ],
      "text/plain": [
       "   user_id         signup_time       purchase_time  purchase_value  \\\n",
       "0    22058 2015-02-24 22:55:49 2015-04-18 02:47:11              34   \n",
       "1   333320 2015-06-07 20:39:50 2015-06-08 01:38:54              16   \n",
       "2     1359 2015-01-01 18:52:44 2015-01-01 18:52:45              15   \n",
       "3   150084 2015-04-28 21:13:25 2015-05-04 13:54:50              44   \n",
       "4   221365 2015-07-21 07:09:52 2015-09-09 18:40:53              39   \n",
       "\n",
       "       device_id source browser sex  age    ip_address  class        country  \\\n",
       "0  QVPSPJUOCKZAR    SEO  Chrome   M   39  7.327584e+08      0          Japan   \n",
       "1  EOGFQPIZPYXFZ    Ads  Chrome   F   53  3.503114e+08      0  United States   \n",
       "2  YSSKYOSJHPPLJ    SEO   Opera   M   53  2.621474e+09      1  United States   \n",
       "3  ATGTXKYKUDUQN    SEO  Safari   M   41  3.840542e+09      0             NA   \n",
       "4  NAUITBZFJKHWW    Ads  Safari   M   45  4.155831e+08      0  United States   \n",
       "\n",
       "   time_diff  users_for_same_device  users_for_same_ip  signup_day  \\\n",
       "0      13882                      1                  1           1   \n",
       "1      17944                      1                  1           6   \n",
       "2          1                     12                 12           3   \n",
       "3      60085                      1                  1           1   \n",
       "4      41461                      1                  1           1   \n",
       "\n",
       "   signup_week  purchase_day  purchase_week  \n",
       "0            9             5             16  \n",
       "1           23             0             24  \n",
       "2            1             3              1  \n",
       "3           18             0             19  \n",
       "4           30             2             37  "
      ]
     },
     "execution_count": 33,
     "metadata": {},
     "output_type": "execute_result"
    }
   ],
   "source": [
    "data.head()"
   ]
  },
  {
   "cell_type": "code",
   "execution_count": 50,
   "metadata": {},
   "outputs": [
    {
     "data": {
      "text/html": [
       "<div>\n",
       "<style scoped>\n",
       "    .dataframe tbody tr th:only-of-type {\n",
       "        vertical-align: middle;\n",
       "    }\n",
       "\n",
       "    .dataframe tbody tr th {\n",
       "        vertical-align: top;\n",
       "    }\n",
       "\n",
       "    .dataframe thead th {\n",
       "        text-align: right;\n",
       "    }\n",
       "</style>\n",
       "<table border=\"1\" class=\"dataframe\">\n",
       "  <thead>\n",
       "    <tr style=\"text-align: right;\">\n",
       "      <th></th>\n",
       "      <th>signup_day</th>\n",
       "      <th>signup_week</th>\n",
       "      <th>purchase_day</th>\n",
       "      <th>purchase_week</th>\n",
       "      <th>purchase_value</th>\n",
       "      <th>source</th>\n",
       "      <th>browser</th>\n",
       "      <th>sex</th>\n",
       "      <th>age</th>\n",
       "      <th>country</th>\n",
       "      <th>time_diff</th>\n",
       "      <th>users_for_same_device</th>\n",
       "      <th>users_for_same_ip</th>\n",
       "    </tr>\n",
       "  </thead>\n",
       "  <tbody>\n",
       "    <tr>\n",
       "      <th>0</th>\n",
       "      <td>1</td>\n",
       "      <td>9</td>\n",
       "      <td>5</td>\n",
       "      <td>16</td>\n",
       "      <td>34</td>\n",
       "      <td>2</td>\n",
       "      <td>0</td>\n",
       "      <td>1</td>\n",
       "      <td>39</td>\n",
       "      <td>84</td>\n",
       "      <td>13882</td>\n",
       "      <td>1</td>\n",
       "      <td>1</td>\n",
       "    </tr>\n",
       "    <tr>\n",
       "      <th>1</th>\n",
       "      <td>6</td>\n",
       "      <td>23</td>\n",
       "      <td>0</td>\n",
       "      <td>24</td>\n",
       "      <td>16</td>\n",
       "      <td>0</td>\n",
       "      <td>0</td>\n",
       "      <td>0</td>\n",
       "      <td>53</td>\n",
       "      <td>172</td>\n",
       "      <td>17944</td>\n",
       "      <td>1</td>\n",
       "      <td>1</td>\n",
       "    </tr>\n",
       "    <tr>\n",
       "      <th>2</th>\n",
       "      <td>3</td>\n",
       "      <td>1</td>\n",
       "      <td>3</td>\n",
       "      <td>1</td>\n",
       "      <td>15</td>\n",
       "      <td>2</td>\n",
       "      <td>3</td>\n",
       "      <td>1</td>\n",
       "      <td>53</td>\n",
       "      <td>172</td>\n",
       "      <td>1</td>\n",
       "      <td>12</td>\n",
       "      <td>12</td>\n",
       "    </tr>\n",
       "    <tr>\n",
       "      <th>3</th>\n",
       "      <td>1</td>\n",
       "      <td>18</td>\n",
       "      <td>0</td>\n",
       "      <td>19</td>\n",
       "      <td>44</td>\n",
       "      <td>2</td>\n",
       "      <td>4</td>\n",
       "      <td>1</td>\n",
       "      <td>41</td>\n",
       "      <td>115</td>\n",
       "      <td>60085</td>\n",
       "      <td>1</td>\n",
       "      <td>1</td>\n",
       "    </tr>\n",
       "    <tr>\n",
       "      <th>4</th>\n",
       "      <td>1</td>\n",
       "      <td>30</td>\n",
       "      <td>2</td>\n",
       "      <td>37</td>\n",
       "      <td>39</td>\n",
       "      <td>0</td>\n",
       "      <td>4</td>\n",
       "      <td>1</td>\n",
       "      <td>45</td>\n",
       "      <td>172</td>\n",
       "      <td>41461</td>\n",
       "      <td>1</td>\n",
       "      <td>1</td>\n",
       "    </tr>\n",
       "  </tbody>\n",
       "</table>\n",
       "</div>"
      ],
      "text/plain": [
       "   signup_day  signup_week  purchase_day  purchase_week  purchase_value  \\\n",
       "0           1            9             5             16              34   \n",
       "1           6           23             0             24              16   \n",
       "2           3            1             3              1              15   \n",
       "3           1           18             0             19              44   \n",
       "4           1           30             2             37              39   \n",
       "\n",
       "   source  browser  sex  age  country  time_diff  users_for_same_device  \\\n",
       "0       2        0    1   39       84      13882                      1   \n",
       "1       0        0    0   53      172      17944                      1   \n",
       "2       2        3    1   53      172          1                     12   \n",
       "3       2        4    1   41      115      60085                      1   \n",
       "4       0        4    1   45      172      41461                      1   \n",
       "\n",
       "   users_for_same_ip  \n",
       "0                  1  \n",
       "1                  1  \n",
       "2                 12  \n",
       "3                  1  \n",
       "4                  1  "
      ]
     },
     "execution_count": 50,
     "metadata": {},
     "output_type": "execute_result"
    }
   ],
   "source": [
    "# Label encoder\n",
    "le=LabelEncoder()\n",
    "subset=pd.DataFrame(data)\n",
    "\n",
    "for name in ['signup_day', 'purchase_day', 'source', 'browser', 'sex', 'country', 'class']:\n",
    "    subset[name]=le.fit_transform(data[name])\n",
    "\n",
    "\n",
    "train_x=subset[['signup_day', 'signup_week', 'purchase_day', 'purchase_week', 'purchase_value', 'source', \n",
    "           'browser', 'sex', 'age', 'country', 'time_diff', 'users_for_same_device', 'users_for_same_ip']]\n",
    "train_y=subset['class'].values\n",
    "\n",
    "train_x.head()"
   ]
  },
  {
   "cell_type": "code",
   "execution_count": 51,
   "metadata": {},
   "outputs": [],
   "source": [
    "# Decision Tree\n",
    "clf=DecisionTreeClassifier(max_depth=3,min_samples_leaf=30,random_state=2)\n",
    "clf=clf.fit(X=train_x,y=train_y)"
   ]
  },
  {
   "cell_type": "code",
   "execution_count": 52,
   "metadata": {},
   "outputs": [
    {
     "data": {
      "image/svg+xml": [
       "<?xml version=\"1.0\" encoding=\"UTF-8\" standalone=\"no\"?>\r\n",
       "<!DOCTYPE svg PUBLIC \"-//W3C//DTD SVG 1.1//EN\"\r\n",
       " \"http://www.w3.org/Graphics/SVG/1.1/DTD/svg11.dtd\">\r\n",
       "<!-- Generated by graphviz version 2.38.0 (20140413.2041)\r\n",
       " -->\r\n",
       "<!-- Title: Tree Pages: 1 -->\r\n",
       "<svg width=\"927pt\" height=\"433pt\"\r\n",
       " viewBox=\"0.00 0.00 926.50 433.00\" xmlns=\"http://www.w3.org/2000/svg\" xmlns:xlink=\"http://www.w3.org/1999/xlink\">\r\n",
       "<g id=\"graph0\" class=\"graph\" transform=\"scale(1 1) rotate(0) translate(4 429)\">\r\n",
       "<title>Tree</title>\r\n",
       "<polygon fill=\"white\" stroke=\"none\" points=\"-4,4 -4,-429 922.5,-429 922.5,4 -4,4\"/>\r\n",
       "<!-- 0 -->\r\n",
       "<g id=\"node1\" class=\"node\"><title>0</title>\r\n",
       "<path fill=\"#e88e4d\" stroke=\"black\" d=\"M481,-425C481,-425 334,-425 334,-425 328,-425 322,-419 322,-413 322,-413 322,-354 322,-354 322,-348 328,-342 334,-342 334,-342 481,-342 481,-342 487,-342 493,-348 493,-354 493,-354 493,-413 493,-413 493,-419 487,-425 481,-425\"/>\r\n",
       "<text text-anchor=\"start\" x=\"362\" y=\"-409.8\" font-family=\"Helvetica,sans-Serif\" font-size=\"14.00\">time_diff ≤ 1.5</text>\r\n",
       "<text text-anchor=\"start\" x=\"374\" y=\"-394.8\" font-family=\"Helvetica,sans-Serif\" font-size=\"14.00\">gini = 0.17</text>\r\n",
       "<text text-anchor=\"start\" x=\"347.5\" y=\"-379.8\" font-family=\"Helvetica,sans-Serif\" font-size=\"14.00\">samples = 151112</text>\r\n",
       "<text text-anchor=\"start\" x=\"330\" y=\"-364.8\" font-family=\"Helvetica,sans-Serif\" font-size=\"14.00\">value = [136961, 14151]</text>\r\n",
       "<text text-anchor=\"start\" x=\"351.5\" y=\"-349.8\" font-family=\"Helvetica,sans-Serif\" font-size=\"14.00\">class = Not Fraud</text>\r\n",
       "</g>\r\n",
       "<!-- 1 -->\r\n",
       "<g id=\"node2\" class=\"node\"><title>1</title>\r\n",
       "<path fill=\"#399de5\" stroke=\"black\" d=\"M386.5,-306C386.5,-306 204.5,-306 204.5,-306 198.5,-306 192.5,-300 192.5,-294 192.5,-294 192.5,-235 192.5,-235 192.5,-229 198.5,-223 204.5,-223 204.5,-223 386.5,-223 386.5,-223 392.5,-223 398.5,-229 398.5,-235 398.5,-235 398.5,-294 398.5,-294 398.5,-300 392.5,-306 386.5,-306\"/>\r\n",
       "<text text-anchor=\"start\" x=\"200.5\" y=\"-290.8\" font-family=\"Helvetica,sans-Serif\" font-size=\"14.00\">users_for_same_device ≤ 5.5</text>\r\n",
       "<text text-anchor=\"start\" x=\"258\" y=\"-275.8\" font-family=\"Helvetica,sans-Serif\" font-size=\"14.00\">gini = 0.001</text>\r\n",
       "<text text-anchor=\"start\" x=\"244\" y=\"-260.8\" font-family=\"Helvetica,sans-Serif\" font-size=\"14.00\">samples = 7602</text>\r\n",
       "<text text-anchor=\"start\" x=\"242.5\" y=\"-245.8\" font-family=\"Helvetica,sans-Serif\" font-size=\"14.00\">value = [2, 7600]</text>\r\n",
       "<text text-anchor=\"start\" x=\"252.5\" y=\"-230.8\" font-family=\"Helvetica,sans-Serif\" font-size=\"14.00\">class = Fraud</text>\r\n",
       "</g>\r\n",
       "<!-- 0&#45;&gt;1 -->\r\n",
       "<g id=\"edge1\" class=\"edge\"><title>0&#45;&gt;1</title>\r\n",
       "<path fill=\"none\" stroke=\"black\" d=\"M368.642,-341.907C359.868,-332.742 350.472,-322.927 341.438,-313.489\"/>\r\n",
       "<polygon fill=\"black\" stroke=\"black\" points=\"343.733,-310.824 334.289,-306.021 338.676,-315.665 343.733,-310.824\"/>\r\n",
       "<text text-anchor=\"middle\" x=\"333.743\" y=\"-327.315\" font-family=\"Helvetica,sans-Serif\" font-size=\"14.00\">True</text>\r\n",
       "</g>\r\n",
       "<!-- 6 -->\r\n",
       "<g id=\"node7\" class=\"node\"><title>6</title>\r\n",
       "<path fill=\"#e68742\" stroke=\"black\" d=\"M610.5,-306C610.5,-306 428.5,-306 428.5,-306 422.5,-306 416.5,-300 416.5,-294 416.5,-294 416.5,-235 416.5,-235 416.5,-229 422.5,-223 428.5,-223 428.5,-223 610.5,-223 610.5,-223 616.5,-223 622.5,-229 622.5,-235 622.5,-235 622.5,-294 622.5,-294 622.5,-300 616.5,-306 610.5,-306\"/>\r\n",
       "<text text-anchor=\"start\" x=\"424.5\" y=\"-290.8\" font-family=\"Helvetica,sans-Serif\" font-size=\"14.00\">users_for_same_device ≤ 1.5</text>\r\n",
       "<text text-anchor=\"start\" x=\"482\" y=\"-275.8\" font-family=\"Helvetica,sans-Serif\" font-size=\"14.00\">gini = 0.087</text>\r\n",
       "<text text-anchor=\"start\" x=\"459.5\" y=\"-260.8\" font-family=\"Helvetica,sans-Serif\" font-size=\"14.00\">samples = 143510</text>\r\n",
       "<text text-anchor=\"start\" x=\"446\" y=\"-245.8\" font-family=\"Helvetica,sans-Serif\" font-size=\"14.00\">value = [136959, 6551]</text>\r\n",
       "<text text-anchor=\"start\" x=\"463.5\" y=\"-230.8\" font-family=\"Helvetica,sans-Serif\" font-size=\"14.00\">class = Not Fraud</text>\r\n",
       "</g>\r\n",
       "<!-- 0&#45;&gt;6 -->\r\n",
       "<g id=\"edge6\" class=\"edge\"><title>0&#45;&gt;6</title>\r\n",
       "<path fill=\"none\" stroke=\"black\" d=\"M446.358,-341.907C455.132,-332.742 464.528,-322.927 473.562,-313.489\"/>\r\n",
       "<polygon fill=\"black\" stroke=\"black\" points=\"476.324,-315.665 480.711,-306.021 471.267,-310.824 476.324,-315.665\"/>\r\n",
       "<text text-anchor=\"middle\" x=\"481.257\" y=\"-327.315\" font-family=\"Helvetica,sans-Serif\" font-size=\"14.00\">False</text>\r\n",
       "</g>\r\n",
       "<!-- 2 -->\r\n",
       "<g id=\"node3\" class=\"node\"><title>2</title>\r\n",
       "<path fill=\"#3fa0e6\" stroke=\"black\" d=\"M235.5,-187C235.5,-187 99.5,-187 99.5,-187 93.5,-187 87.5,-181 87.5,-175 87.5,-175 87.5,-116 87.5,-116 87.5,-110 93.5,-104 99.5,-104 99.5,-104 235.5,-104 235.5,-104 241.5,-104 247.5,-110 247.5,-116 247.5,-116 247.5,-175 247.5,-175 247.5,-181 241.5,-187 235.5,-187\"/>\r\n",
       "<text text-anchor=\"start\" x=\"95.5\" y=\"-171.8\" font-family=\"Helvetica,sans-Serif\" font-size=\"14.00\">purchase_value ≤ 31.5</text>\r\n",
       "<text text-anchor=\"start\" x=\"130\" y=\"-156.8\" font-family=\"Helvetica,sans-Serif\" font-size=\"14.00\">gini = 0.058</text>\r\n",
       "<text text-anchor=\"start\" x=\"124\" y=\"-141.8\" font-family=\"Helvetica,sans-Serif\" font-size=\"14.00\">samples = 67</text>\r\n",
       "<text text-anchor=\"start\" x=\"123\" y=\"-126.8\" font-family=\"Helvetica,sans-Serif\" font-size=\"14.00\">value = [2, 65]</text>\r\n",
       "<text text-anchor=\"start\" x=\"124.5\" y=\"-111.8\" font-family=\"Helvetica,sans-Serif\" font-size=\"14.00\">class = Fraud</text>\r\n",
       "</g>\r\n",
       "<!-- 1&#45;&gt;2 -->\r\n",
       "<g id=\"edge2\" class=\"edge\"><title>1&#45;&gt;2</title>\r\n",
       "<path fill=\"none\" stroke=\"black\" d=\"M251.091,-222.907C240.865,-213.56 229.9,-203.538 219.388,-193.929\"/>\r\n",
       "<polygon fill=\"black\" stroke=\"black\" points=\"221.573,-191.184 211.83,-187.021 216.85,-196.351 221.573,-191.184\"/>\r\n",
       "</g>\r\n",
       "<!-- 5 -->\r\n",
       "<g id=\"node6\" class=\"node\"><title>5</title>\r\n",
       "<path fill=\"#399de5\" stroke=\"black\" d=\"M375.5,-179.5C375.5,-179.5 277.5,-179.5 277.5,-179.5 271.5,-179.5 265.5,-173.5 265.5,-167.5 265.5,-167.5 265.5,-123.5 265.5,-123.5 265.5,-117.5 271.5,-111.5 277.5,-111.5 277.5,-111.5 375.5,-111.5 375.5,-111.5 381.5,-111.5 387.5,-117.5 387.5,-123.5 387.5,-123.5 387.5,-167.5 387.5,-167.5 387.5,-173.5 381.5,-179.5 375.5,-179.5\"/>\r\n",
       "<text text-anchor=\"start\" x=\"297.5\" y=\"-164.3\" font-family=\"Helvetica,sans-Serif\" font-size=\"14.00\">gini = 0.0</text>\r\n",
       "<text text-anchor=\"start\" x=\"275\" y=\"-149.3\" font-family=\"Helvetica,sans-Serif\" font-size=\"14.00\">samples = 7535</text>\r\n",
       "<text text-anchor=\"start\" x=\"273.5\" y=\"-134.3\" font-family=\"Helvetica,sans-Serif\" font-size=\"14.00\">value = [0, 7535]</text>\r\n",
       "<text text-anchor=\"start\" x=\"283.5\" y=\"-119.3\" font-family=\"Helvetica,sans-Serif\" font-size=\"14.00\">class = Fraud</text>\r\n",
       "</g>\r\n",
       "<!-- 1&#45;&gt;5 -->\r\n",
       "<g id=\"edge5\" class=\"edge\"><title>1&#45;&gt;5</title>\r\n",
       "<path fill=\"none\" stroke=\"black\" d=\"M306.255,-222.907C309.12,-212.094 312.225,-200.376 315.122,-189.441\"/>\r\n",
       "<polygon fill=\"black\" stroke=\"black\" points=\"318.534,-190.23 317.712,-179.667 311.768,-188.437 318.534,-190.23\"/>\r\n",
       "</g>\r\n",
       "<!-- 3 -->\r\n",
       "<g id=\"node4\" class=\"node\"><title>3</title>\r\n",
       "<path fill=\"#46a4e7\" stroke=\"black\" d=\"M93,-68C93,-68 12,-68 12,-68 6,-68 0,-62 0,-56 0,-56 0,-12 0,-12 0,-6 6,-0 12,-0 12,-0 93,-0 93,-0 99,-0 105,-6 105,-12 105,-12 105,-56 105,-56 105,-62 99,-68 93,-68\"/>\r\n",
       "<text text-anchor=\"start\" x=\"15\" y=\"-52.8\" font-family=\"Helvetica,sans-Serif\" font-size=\"14.00\">gini = 0.117</text>\r\n",
       "<text text-anchor=\"start\" x=\"9\" y=\"-37.8\" font-family=\"Helvetica,sans-Serif\" font-size=\"14.00\">samples = 32</text>\r\n",
       "<text text-anchor=\"start\" x=\"8\" y=\"-22.8\" font-family=\"Helvetica,sans-Serif\" font-size=\"14.00\">value = [2, 30]</text>\r\n",
       "<text text-anchor=\"start\" x=\"9.5\" y=\"-7.8\" font-family=\"Helvetica,sans-Serif\" font-size=\"14.00\">class = Fraud</text>\r\n",
       "</g>\r\n",
       "<!-- 2&#45;&gt;3 -->\r\n",
       "<g id=\"edge3\" class=\"edge\"><title>2&#45;&gt;3</title>\r\n",
       "<path fill=\"none\" stroke=\"black\" d=\"M124.678,-103.726C114.908,-94.423 104.531,-84.5428 94.7834,-75.2612\"/>\r\n",
       "<polygon fill=\"black\" stroke=\"black\" points=\"97.1279,-72.6606 87.4722,-68.2996 92.3008,-77.7301 97.1279,-72.6606\"/>\r\n",
       "</g>\r\n",
       "<!-- 4 -->\r\n",
       "<g id=\"node5\" class=\"node\"><title>4</title>\r\n",
       "<path fill=\"#399de5\" stroke=\"black\" d=\"M216,-68C216,-68 135,-68 135,-68 129,-68 123,-62 123,-56 123,-56 123,-12 123,-12 123,-6 129,-0 135,-0 135,-0 216,-0 216,-0 222,-0 228,-6 228,-12 228,-12 228,-56 228,-56 228,-62 222,-68 216,-68\"/>\r\n",
       "<text text-anchor=\"start\" x=\"146.5\" y=\"-52.8\" font-family=\"Helvetica,sans-Serif\" font-size=\"14.00\">gini = 0.0</text>\r\n",
       "<text text-anchor=\"start\" x=\"132\" y=\"-37.8\" font-family=\"Helvetica,sans-Serif\" font-size=\"14.00\">samples = 35</text>\r\n",
       "<text text-anchor=\"start\" x=\"131\" y=\"-22.8\" font-family=\"Helvetica,sans-Serif\" font-size=\"14.00\">value = [0, 35]</text>\r\n",
       "<text text-anchor=\"start\" x=\"132.5\" y=\"-7.8\" font-family=\"Helvetica,sans-Serif\" font-size=\"14.00\">class = Fraud</text>\r\n",
       "</g>\r\n",
       "<!-- 2&#45;&gt;4 -->\r\n",
       "<g id=\"edge4\" class=\"edge\"><title>2&#45;&gt;4</title>\r\n",
       "<path fill=\"none\" stroke=\"black\" d=\"M170.479,-103.726C171.085,-95.4263 171.725,-86.6671 172.338,-78.2834\"/>\r\n",
       "<polygon fill=\"black\" stroke=\"black\" points=\"175.829,-78.5281 173.067,-68.2996 168.848,-78.018 175.829,-78.5281\"/>\r\n",
       "</g>\r\n",
       "<!-- 7 -->\r\n",
       "<g id=\"node8\" class=\"node\"><title>7</title>\r\n",
       "<path fill=\"#e6853f\" stroke=\"black\" d=\"M573,-187C573,-187 434,-187 434,-187 428,-187 422,-181 422,-175 422,-175 422,-116 422,-116 422,-110 428,-104 434,-104 434,-104 573,-104 573,-104 579,-104 585,-110 585,-116 585,-116 585,-175 585,-175 585,-181 579,-187 573,-187\"/>\r\n",
       "<text text-anchor=\"start\" x=\"441.5\" y=\"-171.8\" font-family=\"Helvetica,sans-Serif\" font-size=\"14.00\">time_diff ≤ 83354.5</text>\r\n",
       "<text text-anchor=\"start\" x=\"466\" y=\"-156.8\" font-family=\"Helvetica,sans-Serif\" font-size=\"14.00\">gini = 0.059</text>\r\n",
       "<text text-anchor=\"start\" x=\"443.5\" y=\"-141.8\" font-family=\"Helvetica,sans-Serif\" font-size=\"14.00\">samples = 131780</text>\r\n",
       "<text text-anchor=\"start\" x=\"430\" y=\"-126.8\" font-family=\"Helvetica,sans-Serif\" font-size=\"14.00\">value = [127770, 4010]</text>\r\n",
       "<text text-anchor=\"start\" x=\"447.5\" y=\"-111.8\" font-family=\"Helvetica,sans-Serif\" font-size=\"14.00\">class = Not Fraud</text>\r\n",
       "</g>\r\n",
       "<!-- 6&#45;&gt;7 -->\r\n",
       "<g id=\"edge7\" class=\"edge\"><title>6&#45;&gt;7</title>\r\n",
       "<path fill=\"none\" stroke=\"black\" d=\"M513.949,-222.907C512.807,-214.558 511.592,-205.671 510.409,-197.02\"/>\r\n",
       "<polygon fill=\"black\" stroke=\"black\" points=\"513.864,-196.454 509.041,-187.021 506.929,-197.403 513.864,-196.454\"/>\r\n",
       "</g>\r\n",
       "<!-- 10 -->\r\n",
       "<g id=\"node11\" class=\"node\"><title>10</title>\r\n",
       "<path fill=\"#eca470\" stroke=\"black\" d=\"M797.5,-187C797.5,-187 615.5,-187 615.5,-187 609.5,-187 603.5,-181 603.5,-175 603.5,-175 603.5,-116 603.5,-116 603.5,-110 609.5,-104 615.5,-104 615.5,-104 797.5,-104 797.5,-104 803.5,-104 809.5,-110 809.5,-116 809.5,-116 809.5,-175 809.5,-175 809.5,-181 803.5,-187 797.5,-187\"/>\r\n",
       "<text text-anchor=\"start\" x=\"611.5\" y=\"-171.8\" font-family=\"Helvetica,sans-Serif\" font-size=\"14.00\">users_for_same_device ≤ 4.5</text>\r\n",
       "<text text-anchor=\"start\" x=\"669\" y=\"-156.8\" font-family=\"Helvetica,sans-Serif\" font-size=\"14.00\">gini = 0.339</text>\r\n",
       "<text text-anchor=\"start\" x=\"650.5\" y=\"-141.8\" font-family=\"Helvetica,sans-Serif\" font-size=\"14.00\">samples = 11730</text>\r\n",
       "<text text-anchor=\"start\" x=\"641.5\" y=\"-126.8\" font-family=\"Helvetica,sans-Serif\" font-size=\"14.00\">value = [9189, 2541]</text>\r\n",
       "<text text-anchor=\"start\" x=\"650.5\" y=\"-111.8\" font-family=\"Helvetica,sans-Serif\" font-size=\"14.00\">class = Not Fraud</text>\r\n",
       "</g>\r\n",
       "<!-- 6&#45;&gt;10 -->\r\n",
       "<g id=\"edge10\" class=\"edge\"><title>6&#45;&gt;10</title>\r\n",
       "<path fill=\"none\" stroke=\"black\" d=\"M584.379,-222.907C600.044,-213.106 616.895,-202.563 632.927,-192.533\"/>\r\n",
       "<polygon fill=\"black\" stroke=\"black\" points=\"635.115,-195.292 641.736,-187.021 631.402,-189.358 635.115,-195.292\"/>\r\n",
       "</g>\r\n",
       "<!-- 8 -->\r\n",
       "<g id=\"node9\" class=\"node\"><title>8</title>\r\n",
       "<path fill=\"#e6853f\" stroke=\"black\" d=\"M426,-68C426,-68 287,-68 287,-68 281,-68 275,-62 275,-56 275,-56 275,-12 275,-12 275,-6 281,-0 287,-0 287,-0 426,-0 426,-0 432,-0 438,-6 438,-12 438,-12 438,-56 438,-56 438,-62 432,-68 426,-68\"/>\r\n",
       "<text text-anchor=\"start\" x=\"319\" y=\"-52.8\" font-family=\"Helvetica,sans-Serif\" font-size=\"14.00\">gini = 0.059</text>\r\n",
       "<text text-anchor=\"start\" x=\"296.5\" y=\"-37.8\" font-family=\"Helvetica,sans-Serif\" font-size=\"14.00\">samples = 127223</text>\r\n",
       "<text text-anchor=\"start\" x=\"283\" y=\"-22.8\" font-family=\"Helvetica,sans-Serif\" font-size=\"14.00\">value = [123323, 3900]</text>\r\n",
       "<text text-anchor=\"start\" x=\"300.5\" y=\"-7.8\" font-family=\"Helvetica,sans-Serif\" font-size=\"14.00\">class = Not Fraud</text>\r\n",
       "</g>\r\n",
       "<!-- 7&#45;&gt;8 -->\r\n",
       "<g id=\"edge8\" class=\"edge\"><title>7&#45;&gt;8</title>\r\n",
       "<path fill=\"none\" stroke=\"black\" d=\"M448.763,-103.726C435.906,-94.1494 422.229,-83.9611 409.452,-74.4438\"/>\r\n",
       "<polygon fill=\"black\" stroke=\"black\" points=\"411.314,-71.4666 401.204,-68.2996 407.132,-77.0803 411.314,-71.4666\"/>\r\n",
       "</g>\r\n",
       "<!-- 9 -->\r\n",
       "<g id=\"node10\" class=\"node\"><title>9</title>\r\n",
       "<path fill=\"#e6843e\" stroke=\"black\" d=\"M582.5,-68C582.5,-68 468.5,-68 468.5,-68 462.5,-68 456.5,-62 456.5,-56 456.5,-56 456.5,-12 456.5,-12 456.5,-6 462.5,-0 468.5,-0 468.5,-0 582.5,-0 582.5,-0 588.5,-0 594.5,-6 594.5,-12 594.5,-12 594.5,-56 594.5,-56 594.5,-62 588.5,-68 582.5,-68\"/>\r\n",
       "<text text-anchor=\"start\" x=\"488\" y=\"-52.8\" font-family=\"Helvetica,sans-Serif\" font-size=\"14.00\">gini = 0.047</text>\r\n",
       "<text text-anchor=\"start\" x=\"474\" y=\"-37.8\" font-family=\"Helvetica,sans-Serif\" font-size=\"14.00\">samples = 4557</text>\r\n",
       "<text text-anchor=\"start\" x=\"464.5\" y=\"-22.8\" font-family=\"Helvetica,sans-Serif\" font-size=\"14.00\">value = [4447, 110]</text>\r\n",
       "<text text-anchor=\"start\" x=\"469.5\" y=\"-7.8\" font-family=\"Helvetica,sans-Serif\" font-size=\"14.00\">class = Not Fraud</text>\r\n",
       "</g>\r\n",
       "<!-- 7&#45;&gt;9 -->\r\n",
       "<g id=\"edge9\" class=\"edge\"><title>7&#45;&gt;9</title>\r\n",
       "<path fill=\"none\" stroke=\"black\" d=\"M511.692,-103.726C513.36,-95.4263 515.119,-86.6671 516.804,-78.2834\"/>\r\n",
       "<polygon fill=\"black\" stroke=\"black\" points=\"520.271,-78.7931 518.81,-68.2996 513.408,-77.4142 520.271,-78.7931\"/>\r\n",
       "</g>\r\n",
       "<!-- 11 -->\r\n",
       "<g id=\"node12\" class=\"node\"><title>11</title>\r\n",
       "<path fill=\"#eda674\" stroke=\"black\" d=\"M760.5,-68C760.5,-68 638.5,-68 638.5,-68 632.5,-68 626.5,-62 626.5,-56 626.5,-56 626.5,-12 626.5,-12 626.5,-6 632.5,-0 638.5,-0 638.5,-0 760.5,-0 760.5,-0 766.5,-0 772.5,-6 772.5,-12 772.5,-12 772.5,-56 772.5,-56 772.5,-62 766.5,-68 760.5,-68\"/>\r\n",
       "<text text-anchor=\"start\" x=\"662\" y=\"-52.8\" font-family=\"Helvetica,sans-Serif\" font-size=\"14.00\">gini = 0.353</text>\r\n",
       "<text text-anchor=\"start\" x=\"643.5\" y=\"-37.8\" font-family=\"Helvetica,sans-Serif\" font-size=\"14.00\">samples = 10925</text>\r\n",
       "<text text-anchor=\"start\" x=\"634.5\" y=\"-22.8\" font-family=\"Helvetica,sans-Serif\" font-size=\"14.00\">value = [8423, 2502]</text>\r\n",
       "<text text-anchor=\"start\" x=\"643.5\" y=\"-7.8\" font-family=\"Helvetica,sans-Serif\" font-size=\"14.00\">class = Not Fraud</text>\r\n",
       "</g>\r\n",
       "<!-- 10&#45;&gt;11 -->\r\n",
       "<g id=\"edge11\" class=\"edge\"><title>10&#45;&gt;11</title>\r\n",
       "<path fill=\"none\" stroke=\"black\" d=\"M703.893,-103.726C703.363,-95.4263 702.803,-86.6671 702.267,-78.2834\"/>\r\n",
       "<polygon fill=\"black\" stroke=\"black\" points=\"705.76,-78.0559 701.629,-68.2996 698.774,-78.5025 705.76,-78.0559\"/>\r\n",
       "</g>\r\n",
       "<!-- 12 -->\r\n",
       "<g id=\"node13\" class=\"node\"><title>12</title>\r\n",
       "<path fill=\"#e68743\" stroke=\"black\" d=\"M906.5,-68C906.5,-68 802.5,-68 802.5,-68 796.5,-68 790.5,-62 790.5,-56 790.5,-56 790.5,-12 790.5,-12 790.5,-6 796.5,-0 802.5,-0 802.5,-0 906.5,-0 906.5,-0 912.5,-0 918.5,-6 918.5,-12 918.5,-12 918.5,-56 918.5,-56 918.5,-62 912.5,-68 906.5,-68\"/>\r\n",
       "<text text-anchor=\"start\" x=\"817\" y=\"-52.8\" font-family=\"Helvetica,sans-Serif\" font-size=\"14.00\">gini = 0.092</text>\r\n",
       "<text text-anchor=\"start\" x=\"807\" y=\"-37.8\" font-family=\"Helvetica,sans-Serif\" font-size=\"14.00\">samples = 805</text>\r\n",
       "<text text-anchor=\"start\" x=\"801.5\" y=\"-22.8\" font-family=\"Helvetica,sans-Serif\" font-size=\"14.00\">value = [766, 39]</text>\r\n",
       "<text text-anchor=\"start\" x=\"798.5\" y=\"-7.8\" font-family=\"Helvetica,sans-Serif\" font-size=\"14.00\">class = Not Fraud</text>\r\n",
       "</g>\r\n",
       "<!-- 10&#45;&gt;12 -->\r\n",
       "<g id=\"edge12\" class=\"edge\"><title>10&#45;&gt;12</title>\r\n",
       "<path fill=\"none\" stroke=\"black\" d=\"M761.61,-103.726C774.554,-94.1494 788.324,-83.9611 801.188,-74.4438\"/>\r\n",
       "<polygon fill=\"black\" stroke=\"black\" points=\"803.535,-77.061 809.492,-68.2996 799.372,-71.4337 803.535,-77.061\"/>\r\n",
       "</g>\r\n",
       "</g>\r\n",
       "</svg>\r\n"
      ],
      "text/plain": [
       "<graphviz.files.Source at 0x1828a877a20>"
      ]
     },
     "execution_count": 52,
     "metadata": {},
     "output_type": "execute_result"
    }
   ],
   "source": [
    "# Visualization\n",
    "features=list(train_x.columns)\n",
    "targets=['Not Fraud','Fraud']\n",
    "dot_data=tree.export_graphviz(clf,out_file=None,feature_names=features,class_names=targets,\n",
    "                             filled=True,rounded=True,special_characters=True,)\n",
    "graph=graphviz.Source(dot_data)\n",
    "graph"
   ]
  },
  {
   "cell_type": "code",
   "execution_count": 53,
   "metadata": {},
   "outputs": [
    {
     "name": "stdout",
     "output_type": "stream",
     "text": [
      "time_diff  | 0.94290\n",
      "users_for_same_device | 0.05709\n",
      "purchase_value | 0.00001\n",
      "signup_day | 0.00000\n",
      "signup_week | 0.00000\n",
      "purchase_day | 0.00000\n",
      "purchase_week | 0.00000\n",
      "source     | 0.00000\n",
      "browser    | 0.00000\n",
      "sex        | 0.00000\n",
      "age        | 0.00000\n",
      "country    | 0.00000\n",
      "users_for_same_ip | 0.00000\n"
     ]
    }
   ],
   "source": [
    "# Feature importance\n",
    "importance = sorted(zip(features, clf.feature_importances_), key=lambda x:x[1], reverse=True)\n",
    "for feature, val in importance:\n",
    "    print('{0:10s} | {1:.5f}'.format(feature, val))"
   ]
  },
  {
   "cell_type": "code",
   "execution_count": 54,
   "metadata": {},
   "outputs": [
    {
     "data": {
      "image/png": "[encoded data removed]",
      "text/plain": [
       "<Figure size 1080x504 with 1 Axes>"
      ]
     },
     "metadata": {
      "needs_background": "light"
     },
     "output_type": "display_data"
    }
   ],
   "source": [
    "# Visualization\n",
    "hist_kws={'histtype': 'bar', 'edgecolor':'black', 'alpha': 0.2}\n",
    "fig, ax = plt.subplots(figsize=(15, 7))\n",
    "sns.distplot(subset[subset['class']==0]['time_diff'], \n",
    "             label='Not Fraud', ax=ax, hist_kws=hist_kws)\n",
    "sns.distplot(subset[subset['class']==1]['time_diff'], \n",
    "             label='Fraud', ax=ax, hist_kws=hist_kws)\n",
    "ax.set_xlabel('time_diff', fontsize=12)\n",
    "ax.set_ylabel('PDF', fontsize=12)\n",
    "ax.legend()\n",
    "plt.show()"
   ]
  },
  {
   "cell_type": "markdown",
   "metadata": {},
   "source": [
    "## Additional Analysis - Similarity"
   ]
  },
  {
   "cell_type": "code",
   "execution_count": 82,
   "metadata": {},
   "outputs": [
    {
     "data": {
      "text/html": [
       "<div>\n",
       "<style scoped>\n",
       "    .dataframe tbody tr th:only-of-type {\n",
       "        vertical-align: middle;\n",
       "    }\n",
       "\n",
       "    .dataframe tbody tr th {\n",
       "        vertical-align: top;\n",
       "    }\n",
       "\n",
       "    .dataframe thead th {\n",
       "        text-align: right;\n",
       "    }\n",
       "</style>\n",
       "<table border=\"1\" class=\"dataframe\">\n",
       "  <thead>\n",
       "    <tr style=\"text-align: right;\">\n",
       "      <th></th>\n",
       "      <th>id</th>\n",
       "      <th>user_id</th>\n",
       "      <th>user_state</th>\n",
       "      <th>user_sign_up_date</th>\n",
       "      <th>song_played</th>\n",
       "      <th>time_played</th>\n",
       "    </tr>\n",
       "  </thead>\n",
       "  <tbody>\n",
       "    <tr>\n",
       "      <th>0</th>\n",
       "      <td>GOQMMKSQQH</td>\n",
       "      <td>122</td>\n",
       "      <td>Louisiana</td>\n",
       "      <td>2015-05-16</td>\n",
       "      <td>Hey Jude</td>\n",
       "      <td>2015-06-11 21:51:35</td>\n",
       "    </tr>\n",
       "    <tr>\n",
       "      <th>1</th>\n",
       "      <td>HWKKBQKNWI</td>\n",
       "      <td>3</td>\n",
       "      <td>Ohio</td>\n",
       "      <td>2015-05-01</td>\n",
       "      <td>We Can Work It Out</td>\n",
       "      <td>2015-06-06 16:49:19</td>\n",
       "    </tr>\n",
       "    <tr>\n",
       "      <th>2</th>\n",
       "      <td>DKQSXVNJDH</td>\n",
       "      <td>35</td>\n",
       "      <td>New Jersey</td>\n",
       "      <td>2015-05-04</td>\n",
       "      <td>Back In the U.S.S.R.</td>\n",
       "      <td>2015-06-14 02:11:29</td>\n",
       "    </tr>\n",
       "    <tr>\n",
       "      <th>3</th>\n",
       "      <td>HLHRIDQTUW</td>\n",
       "      <td>126</td>\n",
       "      <td>Illinois</td>\n",
       "      <td>2015-05-16</td>\n",
       "      <td>P.s. I Love You</td>\n",
       "      <td>2015-06-08 12:26:10</td>\n",
       "    </tr>\n",
       "    <tr>\n",
       "      <th>4</th>\n",
       "      <td>SUKJCSBCYW</td>\n",
       "      <td>6</td>\n",
       "      <td>New Jersey</td>\n",
       "      <td>2015-05-01</td>\n",
       "      <td>Sgt. Pepper's Lonely Hearts Club Band</td>\n",
       "      <td>2015-06-28 14:57:00</td>\n",
       "    </tr>\n",
       "  </tbody>\n",
       "</table>\n",
       "</div>"
      ],
      "text/plain": [
       "           id  user_id  user_state user_sign_up_date  \\\n",
       "0  GOQMMKSQQH      122   Louisiana        2015-05-16   \n",
       "1  HWKKBQKNWI        3        Ohio        2015-05-01   \n",
       "2  DKQSXVNJDH       35  New Jersey        2015-05-04   \n",
       "3  HLHRIDQTUW      126    Illinois        2015-05-16   \n",
       "4  SUKJCSBCYW        6  New Jersey        2015-05-01   \n",
       "\n",
       "                             song_played          time_played  \n",
       "0                               Hey Jude  2015-06-11 21:51:35  \n",
       "1                     We Can Work It Out  2015-06-06 16:49:19  \n",
       "2                   Back In the U.S.S.R.  2015-06-14 02:11:29  \n",
       "3                        P.s. I Love You  2015-06-08 12:26:10  \n",
       "4  Sgt. Pepper's Lonely Hearts Club Band  2015-06-28 14:57:00  "
      ]
     },
     "execution_count": 82,
     "metadata": {},
     "output_type": "execute_result"
    }
   ],
   "source": [
    "from sklearn.preprocessing import normalize\n",
    "song = pd.read_json('E:/Collection_DS_takehome_challenges/Data/song.json')\n",
    "song.head()"
   ]
  },
  {
   "cell_type": "code",
   "execution_count": 83,
   "metadata": {},
   "outputs": [
    {
     "name": "stdout",
     "output_type": "stream",
     "text": [
      "user_id                              1    2    3    4    5    6    7    8    \\\n",
      "song_played                                                                   \n",
      "A Day In The Life                      0    0    1    1    0    1    0    0   \n",
      "A Hard Day's Night                     0    0    0    0    0    1    0    0   \n",
      "A Saturday Club Xmas/Crimble Medley    0    0    0    0    0    0    0    0   \n",
      "ANYTIME AT ALL                         0    0    0    0    0    0    0    0   \n",
      "Across The Universe                    0    0    0    1    0    0    0    0   \n",
      "...                                  ...  ...  ...  ...  ...  ...  ...  ...   \n",
      "YOUR MOTHER SHOULD KNOW                0    0    0    0    0    0    0    0   \n",
      "Yellow Submarine                       0    0    0    0    0    0    1    0   \n",
      "Yesterday                              1    1    0    0    0    0    0    0   \n",
      "You Never Give Me Your Money           0    1    0    0    0    0    0    0   \n",
      "You're Going To Lose That Girl         0    0    0    0    0    0    0    0   \n",
      "\n",
      "user_id                              9    10   ...  191  192  193  194  195  \\\n",
      "song_played                                    ...                            \n",
      "A Day In The Life                      0    0  ...    0    0    1    1    0   \n",
      "A Hard Day's Night                     1    0  ...    0    0    0    0    1   \n",
      "A Saturday Club Xmas/Crimble Medley    0    0  ...    0    0    0    0    0   \n",
      "ANYTIME AT ALL                         0    0  ...    0    0    0    0    0   \n",
      "Across The Universe                    0    0  ...    0    0    0    0    0   \n",
      "...                                  ...  ...  ...  ...  ...  ...  ...  ...   \n",
      "YOUR MOTHER SHOULD KNOW                0    0  ...    0    0    0    0    0   \n",
      "Yellow Submarine                       0    0  ...    0    0    1    0    0   \n",
      "Yesterday                              1    0  ...    1    1    1    1    1   \n",
      "You Never Give Me Your Money           0    0  ...    0    0    0    0    0   \n",
      "You're Going To Lose That Girl         0    0  ...    0    0    0    0    0   \n",
      "\n",
      "user_id                              196  197  198  199  200  \n",
      "song_played                                                   \n",
      "A Day In The Life                      1    0    0    1    0  \n",
      "A Hard Day's Night                     0    0    0    0    0  \n",
      "A Saturday Club Xmas/Crimble Medley    0    0    0    0    0  \n",
      "ANYTIME AT ALL                         0    0    0    0    0  \n",
      "Across The Universe                    0    0    0    0    0  \n",
      "...                                  ...  ...  ...  ...  ...  \n",
      "YOUR MOTHER SHOULD KNOW                0    0    0    0    0  \n",
      "Yellow Submarine                       0    0    0    0    0  \n",
      "Yesterday                              1    0    0    0    1  \n",
      "You Never Give Me Your Money           0    0    0    0    0  \n",
      "You're Going To Lose That Girl         0    0    0    0    0  \n",
      "\n",
      "[97 rows x 196 columns]\n"
     ]
    }
   ],
   "source": [
    "# Step 1: build the User matrix\n",
    "song_user = song.groupby(['song_played', 'user_id'])['id'].count().unstack(fill_value=0)\n",
    "song_user = (song_user > 0).astype(int)\n",
    "print(song_user)"
   ]
  },
  {
   "cell_type": "code",
   "execution_count": 84,
   "metadata": {},
   "outputs": [
    {
     "data": {
      "text/html": [
       "<div>\n",
       "<style scoped>\n",
       "    .dataframe tbody tr th:only-of-type {\n",
       "        vertical-align: middle;\n",
       "    }\n",
       "\n",
       "    .dataframe tbody tr th {\n",
       "        vertical-align: top;\n",
       "    }\n",
       "\n",
       "    .dataframe thead th {\n",
       "        text-align: right;\n",
       "    }\n",
       "</style>\n",
       "<table border=\"1\" class=\"dataframe\">\n",
       "  <thead>\n",
       "    <tr style=\"text-align: right;\">\n",
       "      <th>song_played</th>\n",
       "      <th>A Day In The Life</th>\n",
       "      <th>A Hard Day's Night</th>\n",
       "      <th>A Saturday Club Xmas/Crimble Medley</th>\n",
       "      <th>ANYTIME AT ALL</th>\n",
       "      <th>Across The Universe</th>\n",
       "      <th>All My Loving</th>\n",
       "      <th>All You Need Is Love</th>\n",
       "      <th>And Your Bird Can Sing</th>\n",
       "      <th>BAD BOY</th>\n",
       "      <th>Baby You're A Rich Man</th>\n",
       "      <th>...</th>\n",
       "      <th>We Can Work It Out</th>\n",
       "      <th>When I'm 64</th>\n",
       "      <th>While My Guitar Gently Weeps</th>\n",
       "      <th>Wild Honey Pie</th>\n",
       "      <th>With a Little Help From My Friends</th>\n",
       "      <th>YOUR MOTHER SHOULD KNOW</th>\n",
       "      <th>Yellow Submarine</th>\n",
       "      <th>Yesterday</th>\n",
       "      <th>You Never Give Me Your Money</th>\n",
       "      <th>You're Going To Lose That Girl</th>\n",
       "    </tr>\n",
       "    <tr>\n",
       "      <th>song_played</th>\n",
       "      <th></th>\n",
       "      <th></th>\n",
       "      <th></th>\n",
       "      <th></th>\n",
       "      <th></th>\n",
       "      <th></th>\n",
       "      <th></th>\n",
       "      <th></th>\n",
       "      <th></th>\n",
       "      <th></th>\n",
       "      <th></th>\n",
       "      <th></th>\n",
       "      <th></th>\n",
       "      <th></th>\n",
       "      <th></th>\n",
       "      <th></th>\n",
       "      <th></th>\n",
       "      <th></th>\n",
       "      <th></th>\n",
       "      <th></th>\n",
       "      <th></th>\n",
       "    </tr>\n",
       "  </thead>\n",
       "  <tbody>\n",
       "    <tr>\n",
       "      <th>A Day In The Life</th>\n",
       "      <td>1.000000</td>\n",
       "      <td>0.263117</td>\n",
       "      <td>0.138675</td>\n",
       "      <td>0.14825</td>\n",
       "      <td>0.131559</td>\n",
       "      <td>0.299572</td>\n",
       "      <td>0.294174</td>\n",
       "      <td>0.098058</td>\n",
       "      <td>0.228802</td>\n",
       "      <td>0.200160</td>\n",
       "      <td>...</td>\n",
       "      <td>0.525213</td>\n",
       "      <td>0.113228</td>\n",
       "      <td>0.585429</td>\n",
       "      <td>0.278503</td>\n",
       "      <td>0.539411</td>\n",
       "      <td>0.087706</td>\n",
       "      <td>0.328897</td>\n",
       "      <td>0.377141</td>\n",
       "      <td>0.163430</td>\n",
       "      <td>0.0</td>\n",
       "    </tr>\n",
       "    <tr>\n",
       "      <th>A Hard Day's Night</th>\n",
       "      <td>0.263117</td>\n",
       "      <td>1.000000</td>\n",
       "      <td>0.000000</td>\n",
       "      <td>0.00000</td>\n",
       "      <td>0.100000</td>\n",
       "      <td>0.146385</td>\n",
       "      <td>0.111803</td>\n",
       "      <td>0.000000</td>\n",
       "      <td>0.000000</td>\n",
       "      <td>0.091287</td>\n",
       "      <td>...</td>\n",
       "      <td>0.305788</td>\n",
       "      <td>0.129099</td>\n",
       "      <td>0.266996</td>\n",
       "      <td>0.000000</td>\n",
       "      <td>0.157027</td>\n",
       "      <td>0.000000</td>\n",
       "      <td>0.050000</td>\n",
       "      <td>0.215003</td>\n",
       "      <td>0.074536</td>\n",
       "      <td>0.0</td>\n",
       "    </tr>\n",
       "    <tr>\n",
       "      <th>A Saturday Club Xmas/Crimble Medley</th>\n",
       "      <td>0.138675</td>\n",
       "      <td>0.000000</td>\n",
       "      <td>1.000000</td>\n",
       "      <td>0.00000</td>\n",
       "      <td>0.000000</td>\n",
       "      <td>0.000000</td>\n",
       "      <td>0.000000</td>\n",
       "      <td>0.000000</td>\n",
       "      <td>0.000000</td>\n",
       "      <td>0.000000</td>\n",
       "      <td>...</td>\n",
       "      <td>0.161165</td>\n",
       "      <td>0.000000</td>\n",
       "      <td>0.000000</td>\n",
       "      <td>0.182574</td>\n",
       "      <td>0.000000</td>\n",
       "      <td>0.000000</td>\n",
       "      <td>0.000000</td>\n",
       "      <td>0.000000</td>\n",
       "      <td>0.000000</td>\n",
       "      <td>0.0</td>\n",
       "    </tr>\n",
       "    <tr>\n",
       "      <th>ANYTIME AT ALL</th>\n",
       "      <td>0.148250</td>\n",
       "      <td>0.000000</td>\n",
       "      <td>0.000000</td>\n",
       "      <td>1.00000</td>\n",
       "      <td>0.000000</td>\n",
       "      <td>0.164957</td>\n",
       "      <td>0.094491</td>\n",
       "      <td>0.125988</td>\n",
       "      <td>0.000000</td>\n",
       "      <td>0.000000</td>\n",
       "      <td>...</td>\n",
       "      <td>0.172292</td>\n",
       "      <td>0.000000</td>\n",
       "      <td>0.188044</td>\n",
       "      <td>0.097590</td>\n",
       "      <td>0.176950</td>\n",
       "      <td>0.000000</td>\n",
       "      <td>0.000000</td>\n",
       "      <td>0.103835</td>\n",
       "      <td>0.000000</td>\n",
       "      <td>0.0</td>\n",
       "    </tr>\n",
       "    <tr>\n",
       "      <th>Across The Universe</th>\n",
       "      <td>0.131559</td>\n",
       "      <td>0.100000</td>\n",
       "      <td>0.000000</td>\n",
       "      <td>0.00000</td>\n",
       "      <td>1.000000</td>\n",
       "      <td>0.097590</td>\n",
       "      <td>0.000000</td>\n",
       "      <td>0.000000</td>\n",
       "      <td>0.000000</td>\n",
       "      <td>0.000000</td>\n",
       "      <td>...</td>\n",
       "      <td>0.101929</td>\n",
       "      <td>0.000000</td>\n",
       "      <td>0.133498</td>\n",
       "      <td>0.000000</td>\n",
       "      <td>0.104685</td>\n",
       "      <td>0.000000</td>\n",
       "      <td>0.000000</td>\n",
       "      <td>0.061430</td>\n",
       "      <td>0.000000</td>\n",
       "      <td>0.0</td>\n",
       "    </tr>\n",
       "  </tbody>\n",
       "</table>\n",
       "<p>5 rows × 97 columns</p>\n",
       "</div>"
      ],
      "text/plain": [
       "song_played                          A Day In The Life  A Hard Day's Night  \\\n",
       "song_played                                                                  \n",
       "A Day In The Life                             1.000000            0.263117   \n",
       "A Hard Day's Night                            0.263117            1.000000   \n",
       "A Saturday Club Xmas/Crimble Medley           0.138675            0.000000   \n",
       "ANYTIME AT ALL                                0.148250            0.000000   \n",
       "Across The Universe                           0.131559            0.100000   \n",
       "\n",
       "song_played                          A Saturday Club Xmas/Crimble Medley  \\\n",
       "song_played                                                                \n",
       "A Day In The Life                                               0.138675   \n",
       "A Hard Day's Night                                              0.000000   \n",
       "A Saturday Club Xmas/Crimble Medley                             1.000000   \n",
       "ANYTIME AT ALL                                                  0.000000   \n",
       "Across The Universe                                             0.000000   \n",
       "\n",
       "song_played                          ANYTIME AT ALL  Across The Universe  \\\n",
       "song_played                                                                \n",
       "A Day In The Life                           0.14825             0.131559   \n",
       "A Hard Day's Night                          0.00000             0.100000   \n",
       "A Saturday Club Xmas/Crimble Medley         0.00000             0.000000   \n",
       "ANYTIME AT ALL                              1.00000             0.000000   \n",
       "Across The Universe                         0.00000             1.000000   \n",
       "\n",
       "song_played                          All My Loving  All You Need Is Love  \\\n",
       "song_played                                                                \n",
       "A Day In The Life                         0.299572              0.294174   \n",
       "A Hard Day's Night                        0.146385              0.111803   \n",
       "A Saturday Club Xmas/Crimble Medley       0.000000              0.000000   \n",
       "ANYTIME AT ALL                            0.164957              0.094491   \n",
       "Across The Universe                       0.097590              0.000000   \n",
       "\n",
       "song_played                          And Your Bird Can Sing   BAD BOY  \\\n",
       "song_played                                                             \n",
       "A Day In The Life                                  0.098058  0.228802   \n",
       "A Hard Day's Night                                 0.000000  0.000000   \n",
       "A Saturday Club Xmas/Crimble Medley                0.000000  0.000000   \n",
       "ANYTIME AT ALL                                     0.125988  0.000000   \n",
       "Across The Universe                                0.000000  0.000000   \n",
       "\n",
       "song_played                          Baby You're A Rich Man  ...  \\\n",
       "song_played                                                  ...   \n",
       "A Day In The Life                                  0.200160  ...   \n",
       "A Hard Day's Night                                 0.091287  ...   \n",
       "A Saturday Club Xmas/Crimble Medley                0.000000  ...   \n",
       "ANYTIME AT ALL                                     0.000000  ...   \n",
       "Across The Universe                                0.000000  ...   \n",
       "\n",
       "song_played                          We Can Work It Out  When I'm 64  \\\n",
       "song_played                                                            \n",
       "A Day In The Life                              0.525213     0.113228   \n",
       "A Hard Day's Night                             0.305788     0.129099   \n",
       "A Saturday Club Xmas/Crimble Medley            0.161165     0.000000   \n",
       "ANYTIME AT ALL                                 0.172292     0.000000   \n",
       "Across The Universe                            0.101929     0.000000   \n",
       "\n",
       "song_played                          While My Guitar Gently Weeps  \\\n",
       "song_played                                                         \n",
       "A Day In The Life                                        0.585429   \n",
       "A Hard Day's Night                                       0.266996   \n",
       "A Saturday Club Xmas/Crimble Medley                      0.000000   \n",
       "ANYTIME AT ALL                                           0.188044   \n",
       "Across The Universe                                      0.133498   \n",
       "\n",
       "song_played                          Wild Honey Pie  \\\n",
       "song_played                                           \n",
       "A Day In The Life                          0.278503   \n",
       "A Hard Day's Night                         0.000000   \n",
       "A Saturday Club Xmas/Crimble Medley        0.182574   \n",
       "ANYTIME AT ALL                             0.097590   \n",
       "Across The Universe                        0.000000   \n",
       "\n",
       "song_played                          With a Little Help From My Friends  \\\n",
       "song_played                                                               \n",
       "A Day In The Life                                              0.539411   \n",
       "A Hard Day's Night                                             0.157027   \n",
       "A Saturday Club Xmas/Crimble Medley                            0.000000   \n",
       "ANYTIME AT ALL                                                 0.176950   \n",
       "Across The Universe                                            0.104685   \n",
       "\n",
       "song_played                          YOUR MOTHER SHOULD KNOW  \\\n",
       "song_played                                                    \n",
       "A Day In The Life                                   0.087706   \n",
       "A Hard Day's Night                                  0.000000   \n",
       "A Saturday Club Xmas/Crimble Medley                 0.000000   \n",
       "ANYTIME AT ALL                                      0.000000   \n",
       "Across The Universe                                 0.000000   \n",
       "\n",
       "song_played                          Yellow Submarine  Yesterday  \\\n",
       "song_played                                                        \n",
       "A Day In The Life                            0.328897   0.377141   \n",
       "A Hard Day's Night                           0.050000   0.215003   \n",
       "A Saturday Club Xmas/Crimble Medley          0.000000   0.000000   \n",
       "ANYTIME AT ALL                               0.000000   0.103835   \n",
       "Across The Universe                          0.000000   0.061430   \n",
       "\n",
       "song_played                          You Never Give Me Your Money  \\\n",
       "song_played                                                         \n",
       "A Day In The Life                                        0.163430   \n",
       "A Hard Day's Night                                       0.074536   \n",
       "A Saturday Club Xmas/Crimble Medley                      0.000000   \n",
       "ANYTIME AT ALL                                           0.000000   \n",
       "Across The Universe                                      0.000000   \n",
       "\n",
       "song_played                          You're Going To Lose That Girl  \n",
       "song_played                                                          \n",
       "A Day In The Life                                               0.0  \n",
       "A Hard Day's Night                                              0.0  \n",
       "A Saturday Club Xmas/Crimble Medley                             0.0  \n",
       "ANYTIME AT ALL                                                  0.0  \n",
       "Across The Universe                                             0.0  \n",
       "\n",
       "[5 rows x 97 columns]"
      ]
     },
     "execution_count": 84,
     "metadata": {},
     "output_type": "execute_result"
    }
   ],
   "source": [
    "# Step 2: build user-user similarity matrix\n",
    "song_user_norm = normalize(song_user, axis=1)  # normalize the song-user matrix\n",
    "similarity = np.dot(song_user_norm, song_user_norm.T)  # calculate the similarity matrix\n",
    "similarity_df = pd.DataFrame(similarity, index=song_user.index, columns=song_user.index)\n",
    "\n",
    "similarity_df.head()"
   ]
  },
  {
   "cell_type": "code",
   "execution_count": 85,
   "metadata": {},
   "outputs": [],
   "source": [
    "# Step 3: find the top-k most similar users\n",
    "def find_topk(song, similarity, k):\n",
    "    df = similarity.loc[song].sort_values(ascending=False)[1:k + 1].reset_index()\n",
    "    df = df.rename(columns={'song_played': 'Song', song: 'Similarity'})\n",
    "    \n",
    "    return df"
   ]
  },
  {
   "cell_type": "code",
   "execution_count": 86,
   "metadata": {},
   "outputs": [
    {
     "data": {
      "text/html": [
       "<div>\n",
       "<style scoped>\n",
       "    .dataframe tbody tr th:only-of-type {\n",
       "        vertical-align: middle;\n",
       "    }\n",
       "\n",
       "    .dataframe tbody tr th {\n",
       "        vertical-align: top;\n",
       "    }\n",
       "\n",
       "    .dataframe thead th {\n",
       "        text-align: right;\n",
       "    }\n",
       "</style>\n",
       "<table border=\"1\" class=\"dataframe\">\n",
       "  <thead>\n",
       "    <tr style=\"text-align: right;\">\n",
       "      <th></th>\n",
       "      <th>Song</th>\n",
       "      <th>Similarity</th>\n",
       "    </tr>\n",
       "  </thead>\n",
       "  <tbody>\n",
       "    <tr>\n",
       "      <th>0</th>\n",
       "      <td>Revolution</td>\n",
       "      <td>0.710186</td>\n",
       "    </tr>\n",
       "    <tr>\n",
       "      <th>1</th>\n",
       "      <td>Come Together</td>\n",
       "      <td>0.696557</td>\n",
       "    </tr>\n",
       "    <tr>\n",
       "      <th>2</th>\n",
       "      <td>Get Back</td>\n",
       "      <td>0.676128</td>\n",
       "    </tr>\n",
       "    <tr>\n",
       "      <th>3</th>\n",
       "      <td>Hello Goodbye</td>\n",
       "      <td>0.617065</td>\n",
       "    </tr>\n",
       "    <tr>\n",
       "      <th>4</th>\n",
       "      <td>Back In the U.S.S.R.</td>\n",
       "      <td>0.614700</td>\n",
       "    </tr>\n",
       "    <tr>\n",
       "      <th>5</th>\n",
       "      <td>Let It Be</td>\n",
       "      <td>0.601105</td>\n",
       "    </tr>\n",
       "    <tr>\n",
       "      <th>6</th>\n",
       "      <td>Hey Jude</td>\n",
       "      <td>0.599145</td>\n",
       "    </tr>\n",
       "    <tr>\n",
       "      <th>7</th>\n",
       "      <td>While My Guitar Gently Weeps</td>\n",
       "      <td>0.585429</td>\n",
       "    </tr>\n",
       "    <tr>\n",
       "      <th>8</th>\n",
       "      <td>Lucy In The Sky With Diamonds</td>\n",
       "      <td>0.577453</td>\n",
       "    </tr>\n",
       "    <tr>\n",
       "      <th>9</th>\n",
       "      <td>Here Comes The Sun</td>\n",
       "      <td>0.561283</td>\n",
       "    </tr>\n",
       "  </tbody>\n",
       "</table>\n",
       "</div>"
      ],
      "text/plain": [
       "                            Song  Similarity\n",
       "0                     Revolution    0.710186\n",
       "1                  Come Together    0.696557\n",
       "2                       Get Back    0.676128\n",
       "3                  Hello Goodbye    0.617065\n",
       "4           Back In the U.S.S.R.    0.614700\n",
       "5                      Let It Be    0.601105\n",
       "6                       Hey Jude    0.599145\n",
       "7   While My Guitar Gently Weeps    0.585429\n",
       "8  Lucy In The Sky With Diamonds    0.577453\n",
       "9             Here Comes The Sun    0.561283"
      ]
     },
     "execution_count": 86,
     "metadata": {},
     "output_type": "execute_result"
    }
   ],
   "source": [
    "# Example: find the top 10 similar song for 'A Day In The Life'\n",
    "df = find_topk(song='A Day In The Life', similarity=similarity_df, k=10)\n",
    "df"
   ]
  },
  {
   "cell_type": "markdown",
   "metadata": {},
   "source": [
    "# Additional Analysis - Isolation Forest (Unsupervised) - Anomaly Detection"
   ]
  },
  {
   "cell_type": "markdown",
   "metadata": {},
   "source": [
    "There are different methods for unsupervised anomaly detection, such as Isolation Forest, One-Class SVM, DBSCAN and so on.\n",
    "\n",
    "Here, for simplicity, only DBSCAN method with default parameters is implemented."
   ]
  },
  {
   "cell_type": "code",
   "execution_count": 88,
   "metadata": {},
   "outputs": [],
   "source": [
    "from sklearn.preprocessing import StandardScaler\n",
    "from sklearn.decomposition import PCA\n",
    "from sklearn.cluster import DBSCAN\n",
    "from sklearn.ensemble import IsolationForest"
   ]
  },
  {
   "cell_type": "code",
   "execution_count": 90,
   "metadata": {},
   "outputs": [],
   "source": [
    "# normalize the data\n",
    "x = data[['signup_day', 'signup_week', 'purchase_day', 'purchase_week', 'purchase_value', 'source', \n",
    "           'browser', 'sex', 'age', 'country', 'time_diff', 'users_for_same_device', 'users_for_same_ip']]\n",
    "scaler = StandardScaler()\n",
    "norm_x = scaler.fit_transform(x)"
   ]
  },
  {
   "cell_type": "code",
   "execution_count": 91,
   "metadata": {},
   "outputs": [
    {
     "name": "stdout",
     "output_type": "stream",
     "text": [
      "[[ 0.71517171 -0.48245487]\n",
      " [-0.25359101  0.52329327]\n",
      " [ 6.1077966   1.66519037]\n",
      " ...\n",
      " [ 0.23931388 -0.48886524]\n",
      " [-1.15781081  1.15838822]\n",
      " [-1.10669786  0.11557989]]\n"
     ]
    }
   ],
   "source": [
    "# apply PCA\n",
    "pca = PCA(n_components=2, random_state=42)\n",
    "pca_x = pca.fit_transform(norm_x)\n",
    "print(pca_x)"
   ]
  },
  {
   "cell_type": "code",
   "execution_count": 92,
   "metadata": {},
   "outputs": [
    {
     "data": {
      "image/png": "[encoded data removed]",
      "text/plain": [
       "<Figure size 720x576 with 1 Axes>"
      ]
     },
     "metadata": {
      "needs_background": "light"
     },
     "output_type": "display_data"
    }
   ],
   "source": [
    "fig, ax = plt.subplots(figsize=(10, 8))\n",
    "ax.plot(pca_x[:, 0], pca_x[:, 1], '.', markersize=1)\n",
    "ax.set_xlabel('PCA Component 1', fontsize=12)\n",
    "ax.set_ylabel('PCA Component 2', fontsize=12)\n",
    "plt.show()"
   ]
  },
  {
   "cell_type": "code",
   "execution_count": 93,
   "metadata": {},
   "outputs": [],
   "source": [
    "# build isolation forest model\n",
    "forest = IsolationForest(n_estimators=100, max_samples='auto', contamination=0.1, \n",
    "                         max_features=1.0, bootstrap=False, n_jobs=-1, random_state=42)\n",
    "forest = forest.fit(norm_x)\n",
    "score = forest.decision_function(norm_x)\n",
    "label = forest.predict(norm_x)"
   ]
  },
  {
   "cell_type": "code",
   "execution_count": 94,
   "metadata": {},
   "outputs": [
    {
     "data": {
      "image/png": "[encoded data removed]",
      "text/plain": [
       "<Figure size 1296x504 with 2 Axes>"
      ]
     },
     "metadata": {
      "needs_background": "light"
     },
     "output_type": "display_data"
    }
   ],
   "source": [
    "# visualization\n",
    "inlier = pca_x[label == 1]\n",
    "outlier = pca_x[label == -1]\n",
    "xmin = pca_x[:, 0].min() - 1\n",
    "xmax = pca_x[:, 0].max() + 1\n",
    "ymin = pca_x[:, 1].min() - 1\n",
    "ymax = pca_x[:, 1].max() + 1\n",
    "\n",
    "fig, ax = plt.subplots(nrows=1, ncols=2, figsize=(18, 7))\n",
    "ax[0].plot(inlier[:, 0], inlier[:, 1], 'b.', markersize=2, label='Inlier')\n",
    "ax[0].set_xlabel('PCA Component 1', fontsize=14)\n",
    "ax[0].set_ylabel('PCA Component 2', fontsize=14)\n",
    "ax[0].legend(fontsize=14)\n",
    "ax[0].set_xlim([xmin, xmax])\n",
    "ax[0].set_ylim([ymin, ymax])\n",
    "ax[1].plot(outlier[:, 0], outlier[:, 1], 'r.', markersize=2, label='Outlier')\n",
    "ax[1].set_xlabel('PCA Component 1', fontsize=14)\n",
    "ax[1].set_ylabel('PCA Component 2', fontsize=14)\n",
    "ax[1].legend(fontsize=14)\n",
    "ax[1].set_xlim([xmin, xmax])\n",
    "ax[1].set_ylim([ymin, ymax])\n",
    "plt.tight_layout()\n",
    "plt.show()"
   ]
  },
  {
   "cell_type": "code",
   "execution_count": null,
   "metadata": {},
   "outputs": [],
   "source": []
  },
  {
   "cell_type": "code",
   "execution_count": null,
   "metadata": {},
   "outputs": [],
   "source": []
  },
  {
   "cell_type": "code",
   "execution_count": null,
   "metadata": {},
   "outputs": [],
   "source": []
  },
  {
   "cell_type": "code",
   "execution_count": null,
   "metadata": {},
   "outputs": [],
   "source": []
  },
  {
   "cell_type": "code",
   "execution_count": null,
   "metadata": {},
   "outputs": [],
   "source": []
  },
  {
   "cell_type": "code",
   "execution_count": null,
   "metadata": {},
   "outputs": [],
   "source": []
  },
  {
   "cell_type": "code",
   "execution_count": null,
   "metadata": {},
   "outputs": [],
   "source": []
  },
  {
   "cell_type": "code",
   "execution_count": null,
   "metadata": {},
   "outputs": [],
   "source": []
  },
  {
   "cell_type": "code",
   "execution_count": null,
   "metadata": {},
   "outputs": [],
   "source": []
  }
 ],
 "metadata": {
  "kernelspec": {
   "display_name": "Python 3",
   "language": "python",
   "name": "python3"
  },
  "language_info": {
   "codemirror_mode": {
    "name": "ipython",
    "version": 3
   },
   "file_extension": ".py",
   "mimetype": "text/x-python",
   "name": "python",
   "nbconvert_exporter": "python",
   "pygments_lexer": "ipython3",
   "version": "3.6.10"
  }
 },
 "nbformat": 4,
 "nbformat_minor": 4
}
